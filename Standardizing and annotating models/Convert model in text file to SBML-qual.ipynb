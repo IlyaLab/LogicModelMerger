{
 "cells": [
  {
   "cell_type": "code",
   "execution_count": 14,
   "id": "be983430-e402-4777-9cc8-dc081dcb7672",
   "metadata": {},
   "outputs": [],
   "source": [
    "import biolqm\n",
    "import ginsim\n",
    "import os\n",
    "from rpy2.robjects.packages import importr\n",
    "boolnet = importr(\"BoolNet\")"
   ]
  },
  {
   "cell_type": "markdown",
   "id": "93e4e6ac-61a2-4743-9450-d886602e43b8",
   "metadata": {},
   "source": [
    "# Standardization\n",
    "\n",
    "## Overview\n",
    "\n",
    "This Jupyter notebook provides tools for converting network in text files to SBML-qual format.  \n",
    "It provides two functions: convert single network and convert multiple networks in a folder.\n",
    "\n",
    "## Usage - single model\n",
    "\n",
    "1. **Input format:** Similar to the Python package `Boolnet`, as described [here](https://rdrr.io/cran/BoolNet/man/loadNetwork.html).\n",
    "2. **Save to File:** Use the `to_SBML` function to save the network to a SBML-qual file.\n"
   ]
  },
  {
   "cell_type": "code",
   "execution_count": 34,
   "id": "5533cd18-5ab6-4575-b3dd-4c5474f6a3a3",
   "metadata": {},
   "outputs": [],
   "source": [
    "home = \"persistent/\" # home path for Logic Model Merger\n",
    "model_name = \"Bonzanni2013\"\n",
    "txt_file = home + \"LogicModelMerger/Models/\" + model_name + \".txt\"\n",
    "sbml_file = home + \"LogicModelMerger/Models/\" + model_name + \".sbml\""
   ]
  },
  {
   "cell_type": "code",
   "execution_count": 35,
   "id": "0bb4b15b-cedf-4cbb-a78f-cb166fea3b2e",
   "metadata": {},
   "outputs": [
    {
     "name": "stdout",
     "output_type": "stream",
     "text": [
      "Boolean network with 11 genes\n",
      "\n",
      "Involved genes:\n",
      "SPI1 GATA1 GATA2 TAL1 ZFPM1 FLI1 ERG CBFA2T3 RUNX1 SMAD6 HHEX\n",
      "\n",
      "Transition functions:\n",
      "SPI1 = ((FLI1 | RUNX1 | SPI1) & !(SPI1 & GATA1))\n",
      "GATA1 = ((TAL1 & GATA1) & !(SPI1 & GATA1))\n",
      "GATA2 = ((FLI1 | ERG | (TAL1 & GATA2)) & !(GATA1 & ZFPM1) & !(GATA2 & HHEX))\n",
      "TAL1 = (FLI1 | ERG | (FLI1 & GATA2) | (TAL1 & GATA1) | (GATA2 & TAL1))\n",
      "ZFPM1 = (GATA2 & TAL1)\n",
      "FLI1 = ((FLI1 | GATA2 | ERG | (GATA2 & TAL1)) & !GATA1)\n",
      "ERG = ((FLI1 | ERG | GATA2 | RUNX1) & !(TAL1 & CBFA2T3))\n",
      "CBFA2T3 = (TAL1 & GATA2)\n",
      "RUNX1 = ((SPI1 | RUNX1 | FLI1 | ERG | (GATA2 & TAL1)) & !(RUNX1 & SMAD6))\n",
      "SMAD6 = (ERG | FLI1 | (TAL1 & GATA2))\n",
      "HHEX = (FLI1 | ERG | (TAL1 & GATA2))\n",
      "\n"
     ]
    }
   ],
   "source": [
    "# Load the network in text file\n",
    "net = boolnet.loadNetwork(txt_file)\n",
    "\n",
    "# Export to SBML\n",
    "boolnet.toSBML(net, sbml_file)\n",
    "print(boolnet.loadSBML(sbml_file))"
   ]
  },
  {
   "cell_type": "code",
   "execution_count": 6,
   "id": "e227e635-ab81-404f-9780-21f4f0069603",
   "metadata": {},
   "outputs": [
    {
     "data": {
      "text/html": [
       "<img class=\"unconfined\" width=\"369px\" src=\"data:image/svg+xml;base64,PD94bWwgdmVyc2lvbj0iMS4wIiBlbmNvZGluZz0iVVRGLTgiPz4KPCFET0NUWVBFIHN2ZyBQVUJMSUMgIi0vL1czQy8vRFREIFNWRyAyMDAwMTEwMi8vRU4iICJodHRwOi8vd3d3LnczLm9yZy9UUi8yMDAwL0NSLVNWRy0yMDAwMTEwMi9EVEQvc3ZnLTIwMDAxMTAyLmR0ZCI+Cjxzdmcgd2lkdGg9IjM2OS4wIiBoZWlnaHQ9IjM2NC4wIiB4bWxucz0iaHR0cDovL3d3dy53My5vcmcvMjAwMC9zdmciIHZlcnNpb249IjEuMSI+CiAgPHN0eWxlIHR5cGU9InRleHQvY3NzIj4KdGV4dCB7CiAgZm9udC1mYW1pbHk6ICdTYW5zU2VyaWYnOwogIGZvbnQtc2l6ZTogMTJweDsKfQoubm9kZSAuc2hhcGUgewpmaWxsOiAjZmZmZmZmOwpzdHJva2U6ICMwMDAwMDA7Cn0KLm5vZGUgdGV4dCB7CmZpbGw6ICMwMDAwMDA7Cn0KLmVkZ2UgewpzdHJva2U6ICMwMDAwMDA7CmZpbGw6IG5vbmU7CnN0cm9rZS13aWR0aDogMTsKfQouZWRnZV9QT1NJVElWRSB7CnN0cm9rZTogIzAwYzgwMDsKfQouZWRnZV9ORUdBVElWRSB7CnN0cm9rZTogI2M4MDAwMDsKfQouZWRnZV9EVUFMIHsKc3Ryb2tlOiAjMDAwMGM4Owp9Cjwvc3R5bGU+CiAgPGRlZnM+CiAgICA8bWFya2VyIGlkPSJNYXJrZXJfRFVBTF8wMDAwYzgiIHZpZXdCb3g9Ii03IC03IDEyIDE1IiBvcmllbnQ9ImF1dG8iIG1hcmtlckhlaWdodD0iOSIgbWFya2VyV2lkdGg9IjkiPgogICAgICA8cGF0aCBzdHJva2U9IiMwMDAwYzgiIGZpbGw9IiMwMDAwYzgiIGQ9Ik0gLTYgLTUgTCAtNiA1IEwgLTUgNSBMIC01IDAgTCAtMiAwIEwgLTQgNSBMIDIgMCBMIC00IC01IEwgLTIgMCBMIC01IDAgTCAtNSAtNSB6Ii8+CiAgICA8L21hcmtlcj4KICA8L2RlZnM+CiAgPHBhdGggY2xhc3M9ImVkZ2UgZWRnZV9EVUFMIiBtYXJrZXItZW5kPSJ1cmwoI01hcmtlcl9EVUFMXzAwMDBjOCkiIGQ9Ik0gMjA2LjAgMTUzLjAgTCAyMDYuMCAxMzguMCBMIDIzMy4wIDEzOC4wIEwgMjMzLjAgMTY1LjAgTCAyMjEuMCAxNjUuMCIvPgogIDxkZWZzPgogICAgPG1hcmtlciBpZD0iTWFya2VyX1BPU0lUSVZFXzAwYzgwMCIgdmlld0JveD0iLTcgLTcgMTIgMTUiIG9yaWVudD0iYXV0byIgbWFya2VySGVpZ2h0PSI5IiBtYXJrZXJXaWR0aD0iOSI+CiAgICAgIDxwYXRoIHN0cm9rZT0iIzAwYzgwMCIgZmlsbD0iIzAwYzgwMCIgZD0iTSAtNCAtNSBMIC0yIDAgTCAtNCA1IEwgMiAwIHoiLz4KICAgIDwvbWFya2VyPgogIDwvZGVmcz4KICA8cGF0aCBjbGFzcz0iZWRnZSBlZGdlX1BPU0lUSVZFIiBtYXJrZXItZW5kPSJ1cmwoI01hcmtlcl9QT1NJVElWRV8wMGM4MDApIiBkPSJNIDIyMC4wIDE1Ni4wIEwgMjIwLjAgMTU2LjAiLz4KICA8cGF0aCBjbGFzcz0iZWRnZSBlZGdlX1BPU0lUSVZFIiBtYXJrZXItZW5kPSJ1cmwoI01hcmtlcl9QT1NJVElWRV8wMGM4MDApIiBkPSJNIDE3MS4wIDE1MS4wIEwgMTIzLjAgMTQ0LjAgTCAxMjAuMCAxMzAuMCIvPgogIDxwYXRoIGNsYXNzPSJlZGdlIGVkZ2VfUE9TSVRJVkUiIG1hcmtlci1lbmQ9InVybCgjTWFya2VyX1BPU0lUSVZFXzAwYzgwMCkiIGQ9Ik0gMjIwLjAgMTgwLjAgTCAyMzIuMCAyMDIuMCBMIDIzMi4wIDIxNS4wIi8+CiAgPHBhdGggY2xhc3M9ImVkZ2UgZWRnZV9QT1NJVElWRSIgbWFya2VyLWVuZD0idXJsKCNNYXJrZXJfUE9TSVRJVkVfMDBjODAwKSIgZD0iTSAyMjAuMCAxNTEuMCBMIDI2NS4wIDEyOS4wIEwgMjgwLjAgMTI5LjAiLz4KICA8cGF0aCBjbGFzcz0iZWRnZSBlZGdlX1BPU0lUSVZFIiBtYXJrZXItZW5kPSJ1cmwoI01hcmtlcl9QT1NJVElWRV8wMGM4MDApIiBkPSJNIDIwMy4wIDE1MS4wIEwgMjY2LjAgNTUuMCIvPgogIDxwYXRoIGNsYXNzPSJlZGdlIGVkZ2VfUE9TSVRJVkUiIG1hcmtlci1lbmQ9InVybCgjTWFya2VyX1BPU0lUSVZFXzAwYzgwMCkiIGQ9Ik0gMjA5LjAgMTgwLjAgTCAyODIuMCAyNDEuMCIvPgogIDxwYXRoIGNsYXNzPSJlZGdlIGVkZ2VfUE9TSVRJVkUiIG1hcmtlci1lbmQ9InVybCgjTWFya2VyX1BPU0lUSVZFXzAwYzgwMCkiIGQ9Ik0gMjIwLjAgMTcwLjAgTCAzMTUuMCAxOTIuMCIvPgogIDxwYXRoIGNsYXNzPSJlZGdlIGVkZ2VfUE9TSVRJVkUiIG1hcmtlci1lbmQ9InVybCgjTWFya2VyX1BPU0lUSVZFXzAwYzgwMCkiIGQ9Ik0gMTgwLjAgMTUxLjAgTCAxODAuMCAxMDkuMCBMIDE4MC4wIDk2LjAiLz4KICA8ZGVmcz4KICAgIDxtYXJrZXIgaWQ9Ik1hcmtlcl9ORUdBVElWRV9jODAwMDAiIHZpZXdCb3g9Ii03IC03IDEyIDE1IiBvcmllbnQ9ImF1dG8iIG1hcmtlckhlaWdodD0iOSIgbWFya2VyV2lkdGg9IjkiPgogICAgICA8cGF0aCBzdHJva2U9IiNjODAwMDAiIGZpbGw9IiNjODAwMDAiIGQ9Ik0gLTEgLTQgTCAtMSA0IEwgMSA0IEwgMSAtNCB6Ii8+CiAgICA8L21hcmtlcj4KICA8L2RlZnM+CiAgPHBhdGggY2xhc3M9ImVkZ2UgZWRnZV9ORUdBVElWRSIgbWFya2VyLWVuZD0idXJsKCNNYXJrZXJfTkVHQVRJVkVfYzgwMDAwKSIgZD0iTSAxMjAuMCAxMjkuMCBMIDE2Ny4wIDEzNS4wIEwgMTcwLjAgMTQ5LjAiLz4KICA8cGF0aCBjbGFzcz0iZWRnZSBlZGdlX1BPU0lUSVZFIiBtYXJrZXItZW5kPSJ1cmwoI01hcmtlcl9QT1NJVElWRV8wMGM4MDApIiBkPSJNIDI3My4wIDI3Mi4wIEwgMjU4LjAgMzI0LjAgTCAyNDguMCAzMzAuMCIvPgogIDxwYXRoIGNsYXNzPSJlZGdlIGVkZ2VfUE9TSVRJVkUiIG1hcmtlci1lbmQ9InVybCgjTWFya2VyX1BPU0lUSVZFXzAwYzgwMCkiIGQ9Ik0gMjg5LjAgMjQzLjAgTCAyODkuMCAxNzIuMCBMIDI4OS4wIDE0Ni4wIi8+CiAgPHBhdGggY2xhc3M9ImVkZ2UgZWRnZV9EVUFMIiBtYXJrZXItZW5kPSJ1cmwoI01hcmtlcl9EVUFMXzAwMDBjOCkiIGQ9Ik0gMzA4LjAgMjQ1LjAgTCAzMDguMCAyMzAuMCBMIDMzNS4wIDIzMC4wIEwgMzM1LjAgMjU3LjAgTCAzMjMuMCAyNTcuMCIvPgogIDxwYXRoIGNsYXNzPSJlZGdlIGVkZ2VfUE9TSVRJVkUiIG1hcmtlci1lbmQ9InVybCgjTWFya2VyX1BPU0lUSVZFXzAwYzgwMCkiIGQ9Ik0gMjgyLjAgMTQ1LjAgTCAyMzYuMCAxNjYuMCBMIDIyMS4wIDE2Ni4wIi8+CiAgPHBhdGggY2xhc3M9ImVkZ2UgZWRnZV9QT1NJVElWRSIgbWFya2VyLWVuZD0idXJsKCNNYXJrZXJfUE9TSVRJVkVfMDBjODAwKSIgZD0iTSAyODIuMCAxNDUuMCBMIDI2My4wIDE1Ni4wIEwgMjYxLjAgMTU2LjAiLz4KICA8cGF0aCBjbGFzcz0iZWRnZSBlZGdlX1BPU0lUSVZFIiBtYXJrZXItZW5kPSJ1cmwoI01hcmtlcl9QT1NJVElWRV8wMGM4MDApIiBkPSJNIDI4Mi4wIDE0NS4wIEwgMjcwLjAgMjA0LjAgTCAyNTguMCAyMTUuMCIvPgogIDxwYXRoIGNsYXNzPSJlZGdlIGVkZ2VfUE9TSVRJVkUiIG1hcmtlci1lbmQ9InVybCgjTWFya2VyX1BPU0lUSVZFXzAwYzgwMCkiIGQ9Ik0gMzE3LjAgMTE4LjAgTCAzMTcuMCAxMDMuMCBMIDM0NC4wIDEwMy4wIEwgMzQ0LjAgMTMwLjAgTCAzMzIuMCAxMzAuMCIvPgogIDxwYXRoIGNsYXNzPSJlZGdlIGVkZ2VfUE9TSVRJVkUiIG1hcmtlci1lbmQ9InVybCgjTWFya2VyX1BPU0lUSVZFXzAwYzgwMCkiIGQ9Ik0gMzE0LjAgMTQ1LjAgTCAzMTQuMCAyMTUuMCBMIDMxNC4wIDI0MS4wIi8+CiAgPHBhdGggY2xhc3M9ImVkZ2UgZWRnZV9QT1NJVElWRSIgbWFya2VyLWVuZD0idXJsKCNNYXJrZXJfUE9TSVRJVkVfMDBjODAwKSIgZD0iTSAzMTIuMCAxNDUuMCBMIDMzMy4wIDE4MS4wIi8+CiAgPHBhdGggY2xhc3M9ImVkZ2UgZWRnZV9QT1NJVElWRSIgbWFya2VyLWVuZD0idXJsKCNNYXJrZXJfUE9TSVRJVkVfMDBjODAwKSIgZD0iTSAyODIuMCAxMjAuMCBMIDIyMS4wIDkwLjAiLz4KICA8cGF0aCBjbGFzcz0iZWRnZSBlZGdlX05FR0FUSVZFIiBtYXJrZXItZW5kPSJ1cmwoI01hcmtlcl9ORUdBVElWRV9jODAwMDApIiBkPSJNIDI3OS4wIDU0LjAgTCAzMDIuMCAxMTQuMCIvPgogIDxwYXRoIGNsYXNzPSJlZGdlIGVkZ2VfRFVBTCIgbWFya2VyLWVuZD0idXJsKCNNYXJrZXJfRFVBTF8wMDAwYzgpIiBkPSJNIDIzMy4wIDMzNC4wIEwgMjMzLjAgMzE5LjAgTCAyNjAuMCAzMTkuMCBMIDI2MC4wIDM0Ni4wIEwgMjQ4LjAgMzQ2LjAiLz4KICA8cGF0aCBjbGFzcz0iZWRnZSBlZGdlX05FR0FUSVZFIiBtYXJrZXItZW5kPSJ1cmwoI01hcmtlcl9ORUdBVElWRV9jODAwMDApIiBkPSJNIDE5OC4wIDMzMi4wIEwgMTYwLjAgMzAwLjAgTCAxNjAuMCAyNzguMCIvPgogIDxwYXRoIGNsYXNzPSJlZGdlIGVkZ2VfUE9TSVRJVkUiIG1hcmtlci1lbmQ9InVybCgjTWFya2VyX1BPU0lUSVZFXzAwYzgwMCkiIGQ9Ik0gMjQ3LjAgMzMyLjAgTCAyNjEuMCAyNzkuMCBMIDI3MS4wIDI3My4wIi8+CiAgPHBhdGggY2xhc3M9ImVkZ2UgZWRnZV9QT1NJVElWRSIgbWFya2VyLWVuZD0idXJsKCNNYXJrZXJfUE9TSVRJVkVfMDBjODAwKSIgZD0iTSAyMjcuMCAyNDQuMCBMIDIyNy4wIDMzMy4wIi8+CiAgPHBhdGggY2xhc3M9ImVkZ2UgZWRnZV9QT1NJVElWRSIgbWFya2VyLWVuZD0idXJsKCNNYXJrZXJfUE9TSVRJVkVfMDBjODAwKSIgZD0iTSAyMDguMCAyMTcuMCBMIDE5NS4wIDE5NC4wIEwgMTk1LjAgMTgxLjAiLz4KICA8cGF0aCBjbGFzcz0iZWRnZSBlZGdlX1BPU0lUSVZFIiBtYXJrZXItZW5kPSJ1cmwoI01hcmtlcl9QT1NJVElWRV8wMGM4MDApIiBkPSJNIDIzMy4wIDIxOS4wIEwgMjMzLjAgMTY0LjAiLz4KICA8cGF0aCBjbGFzcz0iZWRnZSBlZGdlX1BPU0lUSVZFIiBtYXJrZXItZW5kPSJ1cmwoI01hcmtlcl9QT1NJVElWRV8wMGM4MDApIiBkPSJNIDI0My4wIDIxOS4wIEwgMjQzLjAgMjA0LjAgTCAyNzAuMCAyMDQuMCBMIDI3MC4wIDIzMS4wIEwgMjU4LjAgMjMxLjAiLz4KICA8cGF0aCBjbGFzcz0iZWRnZSBlZGdlX1BPU0lUSVZFIiBtYXJrZXItZW5kPSJ1cmwoI01hcmtlcl9QT1NJVElWRV8wMGM4MDApIiBkPSJNIDI1Ny4wIDIxNy4wIEwgMjY4LjAgMTU3LjAgTCAyODAuMCAxNDYuMCIvPgogIDxwYXRoIGNsYXNzPSJlZGdlIGVkZ2VfUE9TSVRJVkUiIG1hcmtlci1lbmQ9InVybCgjTWFya2VyX1BPU0lUSVZFXzAwYzgwMCkiIGQ9Ik0gMjU3LjAgMjQwLjAgTCAyNzEuMCAyNDcuMCIvPgogIDxwYXRoIGNsYXNzPSJlZGdlIGVkZ2VfUE9TSVRJVkUiIG1hcmtlci1lbmQ9InVybCgjTWFya2VyX1BPU0lUSVZFXzAwYzgwMCkiIGQ9Ik0gMjU3LjAgMjI0LjAgTCAzMTUuMCAyMDQuMCIvPgogIDxwYXRoIGNsYXNzPSJlZGdlIGVkZ2VfUE9TSVRJVkUiIG1hcmtlci1lbmQ9InVybCgjTWFya2VyX1BPU0lUSVZFXzAwYzgwMCkiIGQ9Ik0gMjI5LjAgMjE3LjAgTCAxOTguMCA5Ni4wIi8+CiAgPHBhdGggY2xhc3M9ImVkZ2UgZWRnZV9ORUdBVElWRSIgbWFya2VyLWVuZD0idXJsKCNNYXJrZXJfTkVHQVRJVkVfYzgwMDAwKSIgZD0iTSAzMzIuMCAyMTIuMCBMIDMwNy4wIDI0MS4wIi8+CiAgPHBhdGggY2xhc3M9ImVkZ2UgZWRnZV9ORUdBVElWRSIgbWFya2VyLWVuZD0idXJsKCNNYXJrZXJfTkVHQVRJVkVfYzgwMDAwKSIgZD0iTSAyMTAuMCA5NS4wIEwgMjEwLjAgMTM2LjAgTCAyMTAuMCAxNDkuMCIvPgogIDxwYXRoIGNsYXNzPSJlZGdlIGVkZ2VfUE9TSVRJVkUiIG1hcmtlci1lbmQ9InVybCgjTWFya2VyX1BPU0lUSVZFXzAwYzgwMCkiIGQ9Ik0gMjExLjAgMTY1LjAgTCAxODQuMCAyMzMuMCBMIDE2OC4wIDI0Ni4wIi8+CiAgPHBhdGggY2xhc3M9ImVkZ2UgZWRnZV9QT1NJVElWRSIgbWFya2VyLWVuZD0idXJsKCNNYXJrZXJfUE9TSVRJVkVfMDBjODAwKSIgZD0iTSAyMTEuMCAxNTguMCBMIDIxMS4wIDE1OC4wIi8+CiAgPHBhdGggY2xhc3M9ImVkZ2UgZWRnZV9QT1NJVElWRSIgbWFya2VyLWVuZD0idXJsKCNNYXJrZXJfUE9TSVRJVkVfMDBjODAwKSIgZD0iTSAyNDYuMCAxMzguMCBMIDI0Ni4wIDEyMy4wIEwgMjczLjAgMTIzLjAgTCAyNzMuMCAxNTAuMCBMIDI2MS4wIDE1MC4wIi8+CiAgPHBhdGggY2xhc3M9ImVkZ2UgZWRnZV9QT1NJVElWRSIgbWFya2VyLWVuZD0idXJsKCNNYXJrZXJfUE9TSVRJVkVfMDBjODAwKSIgZD0iTSAyMTEuMCAxNDQuMCBMIDEyMS4wIDEyMC4wIi8+CiAgPHBhdGggY2xhc3M9ImVkZ2UgZWRnZV9ORUdBVElWRSIgbWFya2VyLWVuZD0idXJsKCNNYXJrZXJfTkVHQVRJVkVfYzgwMDAwKSIgZD0iTSAyNjAuMCAxMzYuMCBMIDI3OC4wIDEyNC4wIEwgMjgwLjAgMTI0LjAiLz4KICA8cGF0aCBjbGFzcz0iZWRnZSBlZGdlX1BPU0lUSVZFIiBtYXJrZXItZW5kPSJ1cmwoI01hcmtlcl9QT1NJVElWRV8wMGM4MDApIiBkPSJNIDIzOS4wIDEzNi4wIEwgMjcwLjAgNTUuMCIvPgogIDxwYXRoIGNsYXNzPSJlZGdlIGVkZ2VfUE9TSVRJVkUiIG1hcmtlci1lbmQ9InVybCgjTWFya2VyX1BPU0lUSVZFXzAwYzgwMCkiIGQ9Ik0gMjQyLjAgMTY1LjAgTCAyODkuMCAyNDEuMCIvPgogIDxwYXRoIGNsYXNzPSJlZGdlIGVkZ2VfUE9TSVRJVkUiIG1hcmtlci1lbmQ9InVybCgjTWFya2VyX1BPU0lUSVZFXzAwYzgwMCkiIGQ9Ik0gMjYwLjAgMTYwLjAgTCAzMTUuMCAxODcuMCIvPgogIDxwYXRoIGNsYXNzPSJlZGdlIGVkZ2VfUE9TSVRJVkUiIG1hcmtlci1lbmQ9InVybCgjTWFya2VyX1BPU0lUSVZFXzAwYzgwMCkiIGQ9Ik0gMjI4LjAgMTM2LjAgTCAyMDMuMCA5Ni4wIi8+CiAgPHBhdGggY2xhc3M9ImVkZ2UgZWRnZV9ORUdBVElWRSIgbWFya2VyLWVuZD0idXJsKCNNYXJrZXJfTkVHQVRJVkVfYzgwMDAwKSIgZD0iTSAxNjcuMCAyNzcuMCBMIDIwNC4wIDMwOC4wIEwgMjA0LjAgMzMwLjAiLz4KICA8cGF0aCBjbGFzcz0iZWRnZSBlZGdlX1BPU0lUSVZFIiBtYXJrZXItZW5kPSJ1cmwoI01hcmtlcl9QT1NJVElWRV8wMGM4MDApIiBkPSJNIDE1My4wIDI1MC4wIEwgMTUzLjAgMjM1LjAgTCAxODAuMCAyMzUuMCBMIDE4MC4wIDI2Mi4wIEwgMTY4LjAgMjYyLjAiLz4KICA8cGF0aCBjbGFzcz0iZWRnZSBlZGdlX05FR0FUSVZFIiBtYXJrZXItZW5kPSJ1cmwoI01hcmtlcl9ORUdBVElWRV9jODAwMDApIiBkPSJNIDE0OS4wIDI0OC4wIEwgMTg4LjAgMTgxLjAiLz4KICA8cGF0aCBjbGFzcz0iZWRnZSBlZGdlX1BPU0lUSVZFIiBtYXJrZXItZW5kPSJ1cmwoI01hcmtlcl9QT1NJVElWRV8wMGM4MDApIiBkPSJNIDE2Ny4wIDI0OC4wIEwgMTkzLjAgMTc5LjAgTCAyMDkuMCAxNjYuMCIvPgogIDxwYXRoIGNsYXNzPSJlZGdlIGVkZ2VfTkVHQVRJVkUiIG1hcmtlci1lbmQ9InVybCgjTWFya2VyX05FR0FUSVZFX2M4MDAwMCkiIGQ9Ik0gMTY3LjAgMjU0LjAgTCAyMDYuMCAyMzkuMCIvPgogIDxnIGlkPSJTUEkxIiBjbGFzcz0ibm9kZSI+CiAgICA8ZWxsaXBzZSBpZD0iU1BJMV9zaGFwZSIgY2xhc3M9InNoYXBlIiBjeD0iMjIyLjUiIGN5PSIzNDYuNSIgcng9IjIyLjUiIHJ5PSIxMi41Ii8+CiAgICA8dGV4dCAgaWQ9IlNQSTFfdGV4dCIgeD0iMjIyIiB5PSIzNDkiIHRleHQtYW5jaG9yPSJtaWRkbGUiPlNQSTE8L3RleHQ+CiAgPC9nPgogIDxnIGlkPSJHQVRBMSIgY2xhc3M9Im5vZGUiPgogICAgPGVsbGlwc2UgaWQ9IkdBVEExX3NoYXBlIiBjbGFzcz0ic2hhcGUiIGN4PSIxNDIuNSIgY3k9IjI2Mi41IiByeD0iMjIuNSIgcnk9IjEyLjUiLz4KICAgIDx0ZXh0ICBpZD0iR0FUQTFfdGV4dCIgeD0iMTQyIiB5PSIyNjUiIHRleHQtYW5jaG9yPSJtaWRkbGUiPkdBVEExPC90ZXh0PgogIDwvZz4KICA8ZyBpZD0iR0FUQTIiIGNsYXNzPSJub2RlIj4KICAgIDxlbGxpcHNlIGlkPSJHQVRBMl9zaGFwZSIgY2xhc3M9InNoYXBlIiBjeD0iMTk1LjUiIGN5PSIxNjUuNSIgcng9IjIyLjUiIHJ5PSIxMi41Ii8+CiAgICA8dGV4dCAgaWQ9IkdBVEEyX3RleHQiIHg9IjE5NSIgeT0iMTY4IiB0ZXh0LWFuY2hvcj0ibWlkZGxlIj5HQVRBMjwvdGV4dD4KICA8L2c+CiAgPGcgaWQ9IlRBTDEiIGNsYXNzPSJub2RlIj4KICAgIDxlbGxpcHNlIGlkPSJUQUwxX3NoYXBlIiBjbGFzcz0ic2hhcGUiIGN4PSIyMzUuNSIgY3k9IjE1MC41IiByeD0iMjIuNSIgcnk9IjEyLjUiLz4KICAgIDx0ZXh0ICBpZD0iVEFMMV90ZXh0IiB4PSIyMzUiIHk9IjE1MyIgdGV4dC1hbmNob3I9Im1pZGRsZSI+VEFMMTwvdGV4dD4KICA8L2c+CiAgPGcgaWQ9IlpGUE0xIiBjbGFzcz0ibm9kZSI+CiAgICA8ZWxsaXBzZSBpZD0iWkZQTTFfc2hhcGUiIGNsYXNzPSJzaGFwZSIgY3g9Ijk1LjUiIGN5PSIxMTQuNSIgcng9IjIyLjUiIHJ5PSIxMi41Ii8+CiAgICA8dGV4dCAgaWQ9IlpGUE0xX3RleHQiIHg9Ijk1IiB5PSIxMTciIHRleHQtYW5jaG9yPSJtaWRkbGUiPlpGUE0xPC90ZXh0PgogIDwvZz4KICA8ZyBpZD0iRkxJMSIgY2xhc3M9Im5vZGUiPgogICAgPGVsbGlwc2UgaWQ9IkZMSTFfc2hhcGUiIGNsYXNzPSJzaGFwZSIgY3g9IjIzMi41IiBjeT0iMjMxLjUiIHJ4PSIyMi41IiByeT0iMTIuNSIvPgogICAgPHRleHQgIGlkPSJGTEkxX3RleHQiIHg9IjIzMiIgeT0iMjM0IiB0ZXh0LWFuY2hvcj0ibWlkZGxlIj5GTEkxPC90ZXh0PgogIDwvZz4KICA8ZyBpZD0iRVJHIiBjbGFzcz0ibm9kZSI+CiAgICA8ZWxsaXBzZSBpZD0iRVJHX3NoYXBlIiBjbGFzcz0ic2hhcGUiIGN4PSIzMDYuNSIgY3k9IjEzMC41IiByeD0iMjIuNSIgcnk9IjEyLjUiLz4KICAgIDx0ZXh0ICBpZD0iRVJHX3RleHQiIHg9IjMwNiIgeT0iMTMzIiB0ZXh0LWFuY2hvcj0ibWlkZGxlIj5FUkc8L3RleHQ+CiAgPC9nPgogIDxnIGlkPSJDQkZBMlQzIiBjbGFzcz0ibm9kZSI+CiAgICA8ZWxsaXBzZSBpZD0iQ0JGQTJUM19zaGFwZSIgY2xhc3M9InNoYXBlIiBjeD0iMjc1LjUiIGN5PSIzOS41IiByeD0iMjIuNSIgcnk9IjEyLjUiLz4KICAgIDx0ZXh0ICBpZD0iQ0JGQTJUM190ZXh0IiB4PSIyNzUiIHk9IjQyIiB0ZXh0LWFuY2hvcj0ibWlkZGxlIj5DQkZBMlQzPC90ZXh0PgogIDwvZz4KICA8ZyBpZD0iUlVOWDEiIGNsYXNzPSJub2RlIj4KICAgIDxlbGxpcHNlIGlkPSJSVU5YMV9zaGFwZSIgY2xhc3M9InNoYXBlIiBjeD0iMjk3LjUiIGN5PSIyNTcuNSIgcng9IjIyLjUiIHJ5PSIxMi41Ii8+CiAgICA8dGV4dCAgaWQ9IlJVTlgxX3RleHQiIHg9IjI5NyIgeT0iMjYwIiB0ZXh0LWFuY2hvcj0ibWlkZGxlIj5SVU5YMTwvdGV4dD4KICA8L2c+CiAgPGcgaWQ9IlNNQUQ2IiBjbGFzcz0ibm9kZSI+CiAgICA8ZWxsaXBzZSBpZD0iU01BRDZfc2hhcGUiIGNsYXNzPSJzaGFwZSIgY3g9IjM0MS41IiBjeT0iMTk3LjUiIHJ4PSIyMi41IiByeT0iMTIuNSIvPgogICAgPHRleHQgIGlkPSJTTUFENl90ZXh0IiB4PSIzNDEiIHk9IjIwMCIgdGV4dC1hbmNob3I9Im1pZGRsZSI+U01BRDY8L3RleHQ+CiAgPC9nPgogIDxnIGlkPSJISEVYIiBjbGFzcz0ibm9kZSI+CiAgICA8ZWxsaXBzZSBpZD0iSEhFWF9zaGFwZSIgY2xhc3M9InNoYXBlIiBjeD0iMTk1LjUiIGN5PSI4MC41IiByeD0iMjIuNSIgcnk9IjEyLjUiLz4KICAgIDx0ZXh0ICBpZD0iSEhFWF90ZXh0IiB4PSIxOTUiIHk9IjgzIiB0ZXh0LWFuY2hvcj0ibWlkZGxlIj5ISEVYPC90ZXh0PgogIDwvZz4KPC9zdmc+Cg==\">"
      ],
      "text/plain": [
       "<IPython.core.display.HTML object>"
      ]
     },
     "execution_count": 6,
     "metadata": {},
     "output_type": "execute_result"
    }
   ],
   "source": [
    "# Visulize the network\n",
    "lqm = biolqm.load(sbml_file)\n",
    "lrg = biolqm.to_ginsim(lqm)\n",
    "ginsim.show(lrg)"
   ]
  },
  {
   "cell_type": "markdown",
   "id": "c117a2b2",
   "metadata": {},
   "source": [
    "## Usage - multiple models\n",
    "\n",
    "1. **Input format:** A folder containing text files with the network in the same format as the Python package `Boolnet`, as described [here](https://rdrr.io/cran/BoolNet/man/loadNetwork.html).\n",
    "2. **Save to File:** Use the `to_SBML` function to save the network to a SBML-qual file."
   ]
  },
  {
   "cell_type": "code",
   "execution_count": 28,
   "id": "4037f46a",
   "metadata": {},
   "outputs": [
    {
     "name": "stdout",
     "output_type": "stream",
     "text": [
      "Number of models converted: 3\n"
     ]
    }
   ],
   "source": [
    "folder_path = home + \"LogicModelMerger/Models/\"\n",
    "num_models_converted = 0\n",
    "for file in os.listdir(folder_path):\n",
    "    if file.endswith(\".txt\"):\n",
    "        model_name = file.split(\".\")[0]\n",
    "        sbml_file = folder_path + model_name + \".sbml\"\n",
    "        net = boolnet.loadNetwork(folder_path + file)\n",
    "        try:\n",
    "            boolnet.toSBML(net, sbml_file)\n",
    "            num_models_converted += 1\n",
    "        except:\n",
    "            print(f\"Error converting {file}\")\n",
    "#Print the number of models converted\n",
    "print(f\"Number of models converted: {num_models_converted}\")"
   ]
  },
  {
   "cell_type": "code",
   "execution_count": 30,
   "id": "99e2f4be",
   "metadata": {},
   "outputs": [
    {
     "name": "stdout",
     "output_type": "stream",
     "text": [
      "Inspecting one model: persistent/Models/Updated/merged_and_Bonzanni2013_Krumsiek2011.sbml\n",
      "Boolean network with 18 genes\n",
      "\n",
      "Involved genes:\n",
      "ERG CBFA2T3 RUNX1 SMAD6 HHEX KLF1 CEBPA JUN EGR1 EGR2 NAB1 GFI1 GATA1 GATA2 ZFPM1 TAL1 SPI1 FLI1\n",
      "\n",
      "Transition functions:\n",
      "ERG = ((FLI1 | ERG | GATA2 | RUNX1) & !(TAL1 & CBFA2T3))\n",
      "CBFA2T3 = (TAL1 & GATA2)\n",
      "RUNX1 = ((SPI1 | RUNX1 | FLI1 | ERG | (GATA2 & TAL1)) & !(RUNX1 & SMAD6))\n",
      "SMAD6 = (ERG | FLI1 | (TAL1 & GATA2))\n",
      "HHEX = (FLI1 | ERG | (TAL1 & GATA2))\n",
      "KLF1 = (GATA1 & !FLI1)\n",
      "CEBPA = (CEBPA & !(GATA1 & ZFPM1 & TAL1))\n",
      "JUN = (SPI1 & !GFI1)\n",
      "EGR1 = ((SPI1 & JUN) & !GFI1)\n",
      "EGR2 = ((SPI1 & JUN) & !GFI1)\n",
      "NAB1 = ((SPI1 & JUN) & !GFI1)\n",
      "GFI1 = (CEBPA & !(EGR1 | EGR2 | NAB1))\n",
      "GATA1 = ((TAL1 & GATA1) & !(SPI1 & GATA1) & (GATA1 | GATA2 | FLI1) & !SPI1)\n",
      "GATA2 = ((FLI1 | ERG | (TAL1 & GATA2)) & !(GATA1 & ZFPM1) & !(GATA2 & HHEX) & GATA2 & !(GATA1 & ZFPM1) & SPI1)\n",
      "ZFPM1 = (GATA2 & TAL1 & GATA1)\n",
      "TAL1 = ((FLI1 | ERG | (FLI1 & GATA2) | (TAL1 & GATA1) | (GATA2 & TAL1)) & GATA1 & !SPI1)\n",
      "SPI1 = ((FLI1 | RUNX1 | SPI1) & !(SPI1 & GATA1) & (CEBPA | SPI1) & !(GATA1 | GATA2))\n",
      "FLI1 = ((FLI1 | GATA2 | ERG | (GATA2 & TAL1)) & !GATA1 & GATA1 & !KLF1)\n",
      "\n"
     ]
    }
   ],
   "source": [
    "print(f\"Inspecting one model: {sbml_file}\")\n",
    "print(boolnet.loadSBML(sbml_file))"
   ]
  }
 ],
 "metadata": {
  "kernelspec": {
   "display_name": "Python 3 (ipykernel)",
   "language": "python",
   "name": "python3"
  },
  "language_info": {
   "codemirror_mode": {
    "name": "ipython",
    "version": 3
   },
   "file_extension": ".py",
   "mimetype": "text/x-python",
   "name": "python",
   "nbconvert_exporter": "python",
   "pygments_lexer": "ipython3",
   "version": "3.11.8"
  }
 },
 "nbformat": 4,
 "nbformat_minor": 5
}
