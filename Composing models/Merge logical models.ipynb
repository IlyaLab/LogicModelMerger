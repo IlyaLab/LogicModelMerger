{
 "cells": [
  {
   "cell_type": "markdown",
   "id": "dc95313b-b406-4b8d-8fbb-1d2bfe56f335",
   "metadata": {},
   "source": [
    "# Merging Boolean Networks\n",
    "\n",
    "## Overview\n",
    "\n",
    "This Jupyter notebook provides tools for merging multiple Boolean network models using  `OR`, `AND`, and `Inhibitor Wins`. The notebook includes functions for:\n",
    "\n",
    "- **Parsing Boolean Expressions:** Extracting activators and inhibitors from Boolean expressions.\n",
    "- **Merging Boolean Networks:** Combining Boolean network models using different methods (`OR`, `AND`, and `Inhibitor Wins`).\n",
    "- **Writing Merged Networks to File:** Saving the final merged network to a text file or SBML-qual file.\n",
    "\n",
    "## Usage\n",
    "\n",
    "1. **Input format:**\n",
    "   - Text file similar to the R package `Boolnet`, as described [here](https://rdrr.io/cran/BoolNet/man/loadNetwork.html)\n",
    "   - SBML-qual format\n",
    "1. **Define Input Networks:** Provide the Boolean networks as dictionaries where keys are gene names and values are Boolean expressions.\n",
    "2. **Merge Networks:** Use the `merge_networks` function to merge the networks using the desired method.\n",
    "3. **Save to File:** Use the `write_network_to_file` function to save the merged network.\n",
    "   - Text file similar to input\n",
    "   - SBML-qual format\n"
   ]
  },
  {
   "cell_type": "code",
   "execution_count": 1,
   "id": "0c312f06-e281-44c7-aba3-37746422a694",
   "metadata": {},
   "outputs": [],
   "source": [
    "# import required libraries\n",
    "# add ../Src to the library path\n",
    "import sys\n",
    "sys.path.append('../Src')\n",
    "\n",
    "import re\n",
    "import libsbml\n",
    "import os\n",
    "import boolean\n",
    "from rpy2.robjects.packages import importr\n",
    "import LM_merger\n",
    "boolnet = importr(\"BoolNet\")\n"
   ]
  },
  {
   "cell_type": "code",
   "execution_count": 2,
   "id": "4114f1b1-4bb1-46cb-b88a-02a9e8f2d907",
   "metadata": {},
   "outputs": [],
   "source": [
    "#input model pairs\n",
    "model1name = \"Palma2021\"\n",
    "model2name = \"Ikonomi2020\"\n",
    "\n",
    "sbml_file1 =  \"../Models/Palma2021.sbml\"\n",
    "sbml_file2 =  \"..//Models/Ikonomi2020.sbml\""
   ]
  },
  {
   "cell_type": "code",
   "execution_count": 3,
   "id": "49dcf21a",
   "metadata": {},
   "outputs": [
    {
     "name": "stdout",
     "output_type": "stream",
     "text": [
      "Network #1:\n",
      "{'FLT3': 'FLT3', 'NPM1': 'NPM1', 'AKT1': 'FLT3', 'APOPTOSIS': '!BCL2&TP53', 'BCL2': 'MAPK1&!TP53', 'CCND1': '!(DNMT3A|GSK3B)', 'CDKN2A': 'NPM1', 'CEBPA': '!FLT3', 'DIFFERENTIATION': '!MEIS1&(CEBPA|ETV6)', 'DNMT3A': 'DNMT3A', 'MAPK1': 'FLT3', 'ETV6': '!MAPK1', 'FBXW7': 'NPM1', 'GSK3B': '!AKT1', 'HOXA9': '!NPM1', 'MEIS1': '!DNMT3A&HOXA9', 'MYC': 'MAPK1&(!FBXW7|!GSK3B)', 'PROLIFERATION': 'CCND1|MEIS1|MYC|SOX4|STAT5A', 'SOX4': '!CEBPA', 'STAT5A': 'FLT3', 'TP53': 'CDKN2A'}\n",
      "Network #2:\n",
      "{'EXTERNAL_QUIESCENCE': 'EXTERNAL_QUIESCENCE', 'EXTERNAL_CYCLING': 'EXTERNAL_CYCLING', 'PIK3CA': 'NRAS', 'TSC1': '!AKT1', 'MTOR': '!TSC1', 'FOXO3': '!AKT1&EXTERNAL_QUIESCENCE', 'ATM': 'FOXO3', 'ROS1': '!ATM|!BMI1|!FOXO3|MITOCHONDRIA|!TP53', 'MITOCHONDRIA': 'MTOR', 'AUTOPHAGY': 'FOXO3&!MTOR&ROS1', 'NRAS': 'EXTERNAL_CYCLING', 'ETS1': '!MEFV&NRAS', 'MEFV': 'NRAS', 'GSK3B': '!AKT1', 'CTNNB1': '!GSK3B', 'MYC': 'CTNNB1&!GSK3B', 'BMI1': 'MYC|(ATM&FOXO3)', 'MDM2': '!ATM&!CDKN2D&(MEFV|TP53)', 'TP53': '!MDM2', 'CDKN1C': 'EXTERNAL_QUIESCENCE|FOXO3', 'CDKN1A': '!MYC&(EXTERNAL_QUIESCENCE|FOXO3|GFI1|TP53)', 'CDKN1B': 'FOXO3', 'GFI1': 'TP53', 'RB1': '!CCND1&!CCNE1', 'E2F1': '!GFI1&!RB1', 'CCND1': '!CDKN1C&!CDKN2A&MYC', 'CCNE1': '!CDKN1C&E2F1&(CCND1|(!CDKN1A&!CDKN1B))', 'S_PHASE': 'CCNE1&E2F1', 'AKT1': 'PIK3CA', 'CDKN2D': '!BMI1&(E2F1|ROS1)', 'CDKN2A': '!BMI1&(ETS1|ROS1)', 'PRO_APOPTOTIC_PROTEINS': '!AKT1&ROS1&TP53', 'ANTI_APOPTOTIC_PROTEINS': '!GSK3B&(EXTERNAL_QUIESCENCE|NRAS)', 'CYCS': '!ANTI_APOPTOTIC_PROTEINS&PRO_APOPTOTIC_PROTEINS', 'APOPTOSIS': '!AKT1&CYCS', 'SENESCENCE': '(CDKN1A&ROS1&TP53)|(CDKN2A&ROS1)'}\n"
     ]
    }
   ],
   "source": [
    "# Load the networks\n",
    "network1 = LM_merger.read_network(sbml_file1)\n",
    "network2 = LM_merger.read_network(sbml_file2)\n",
    "print(\"Network #1:\")\n",
    "print(network1)\n",
    "print(\"Network #2:\")\n",
    "print(network2)"
   ]
  },
  {
   "cell_type": "code",
   "execution_count": null,
   "id": "e8a6aee3",
   "metadata": {},
   "outputs": [],
   "source": [
    "# visulize model the model pairs\n",
    "# Can you add a function to visualize the models?"
   ]
  },
  {
   "cell_type": "code",
   "execution_count": 4,
   "id": "fc8b75b2-d5ef-41ff-a177-577659646c99",
   "metadata": {},
   "outputs": [
    {
     "name": "stdout",
     "output_type": "stream",
     "text": [
      "Merging Method: OR\n",
      "Total Genes in Merged Network: 50\n",
      "Number of Genes in Each Individual Model:\n",
      "  Model 1: 21 genes\n",
      "  Model 2: 36 genes\n",
      "Overlapping Genes: 7\n",
      "Overlapping Genes List: CCND1, APOPTOSIS, CDKN2A, AKT1, TP53, GSK3B, MYC\n",
      "\n",
      "Gene: CCND1\n",
      "  Model 1 Function: !(DNMT3A|GSK3B)\n",
      "  Model 2 Function: !CDKN1C&!CDKN2A&MYC\n",
      "  Merged Function: (!CDKN1C&!CDKN2A&MYC)|(!DNMT3A&!GSK3B)\n",
      "\n",
      "Gene: APOPTOSIS\n",
      "  Model 1 Function: !BCL2&TP53\n",
      "  Model 2 Function: !AKT1&CYCS\n",
      "  Merged Function: (!AKT1&CYCS)|(!BCL2&TP53)\n",
      "\n",
      "Gene: CDKN2A\n",
      "  Model 1 Function: NPM1\n",
      "  Model 2 Function: !BMI1&(ETS1|ROS1)\n",
      "  Merged Function: NPM1|(!BMI1&(ETS1|ROS1))\n",
      "\n",
      "Gene: AKT1\n",
      "  Model 1 Function: FLT3\n",
      "  Model 2 Function: PIK3CA\n",
      "  Merged Function: FLT3|PIK3CA\n",
      "\n",
      "Gene: TP53\n",
      "  Model 1 Function: CDKN2A\n",
      "  Model 2 Function: !MDM2\n",
      "  Merged Function: CDKN2A|!MDM2\n",
      "\n",
      "Gene: GSK3B\n",
      "  Model 1 Function: !AKT1\n",
      "  Model 2 Function: !AKT1\n",
      "  Merged Function: !AKT1\n",
      "\n",
      "Gene: MYC\n",
      "  Model 1 Function: MAPK1&(!FBXW7|!GSK3B)\n",
      "  Model 2 Function: CTNNB1&!GSK3B\n",
      "  Merged Function: (CTNNB1&!GSK3B)|(MAPK1&(!FBXW7|!GSK3B))\n"
     ]
    }
   ],
   "source": [
    "# Example usage:\n",
    "\n",
    "# Merge using OR approach\n",
    "merged_network_or = LM_merger.merge_networks([network1, network2], method=\"OR\")"
   ]
  },
  {
   "cell_type": "code",
   "execution_count": 5,
   "id": "28d97a66-8f73-4eab-ada0-e9094f1b1b31",
   "metadata": {},
   "outputs": [
    {
     "name": "stdout",
     "output_type": "stream",
     "text": [
      "Merging Method: AND\n",
      "Total Genes in Merged Network: 50\n",
      "Number of Genes in Each Individual Model:\n",
      "  Model 1: 21 genes\n",
      "  Model 2: 36 genes\n",
      "Overlapping Genes: 7\n",
      "Overlapping Genes List: CCND1, APOPTOSIS, CDKN2A, AKT1, TP53, GSK3B, MYC\n",
      "\n",
      "Gene: CCND1\n",
      "  Model 1 Function: !(DNMT3A|GSK3B)\n",
      "  Model 2 Function: !CDKN1C&!CDKN2A&MYC\n",
      "  Merged Function: !CDKN1C&!CDKN2A&!DNMT3A&!GSK3B&MYC\n",
      "\n",
      "Gene: APOPTOSIS\n",
      "  Model 1 Function: !BCL2&TP53\n",
      "  Model 2 Function: !AKT1&CYCS\n",
      "  Merged Function: !AKT1&!BCL2&CYCS&TP53\n",
      "\n",
      "Gene: CDKN2A\n",
      "  Model 1 Function: NPM1\n",
      "  Model 2 Function: !BMI1&(ETS1|ROS1)\n",
      "  Merged Function: !BMI1&NPM1&(ETS1|ROS1)\n",
      "\n",
      "Gene: AKT1\n",
      "  Model 1 Function: FLT3\n",
      "  Model 2 Function: PIK3CA\n",
      "  Merged Function: FLT3&PIK3CA\n",
      "\n",
      "Gene: TP53\n",
      "  Model 1 Function: CDKN2A\n",
      "  Model 2 Function: !MDM2\n",
      "  Merged Function: CDKN2A&!MDM2\n",
      "\n",
      "Gene: GSK3B\n",
      "  Model 1 Function: !AKT1\n",
      "  Model 2 Function: !AKT1\n",
      "  Merged Function: !AKT1\n",
      "\n",
      "Gene: MYC\n",
      "  Model 1 Function: MAPK1&(!FBXW7|!GSK3B)\n",
      "  Model 2 Function: CTNNB1&!GSK3B\n",
      "  Merged Function: CTNNB1&!GSK3B&MAPK1\n"
     ]
    }
   ],
   "source": [
    "# Merge using AND approach\n",
    "merged_network_and = LM_merger.merge_networks([network1, network2], method=\"AND\")"
   ]
  },
  {
   "cell_type": "code",
   "execution_count": 7,
   "id": "e4680cf1-1072-4231-8d49-9a55d002b27d",
   "metadata": {},
   "outputs": [
    {
     "name": "stdout",
     "output_type": "stream",
     "text": [
      "Merging Method: Inhibitor Wins\n",
      "Total Genes in Merged Network: 50\n",
      "Number of Genes in Each Individual Model:\n",
      "  Model 1: 21 genes\n",
      "  Model 2: 36 genes\n",
      "Overlapping Genes: 7\n",
      "Overlapping Genes List: CCND1, APOPTOSIS, CDKN2A, AKT1, TP53, GSK3B, MYC\n",
      "\n",
      "Gene: CCND1\n",
      "  Model 1 Function: !(DNMT3A|GSK3B)\n",
      "  Model 2 Function: !CDKN1C&!CDKN2A&MYC\n",
      "  Merged Function: !CDKN1C&!CDKN2A&!DNMT3A&!GSK3B&MYC\n",
      "\n",
      "Gene: APOPTOSIS\n",
      "  Model 1 Function: !BCL2&TP53\n",
      "  Model 2 Function: !AKT1&CYCS\n",
      "  Merged Function: !AKT1&!BCL2&(CYCS|TP53)\n",
      "\n",
      "Gene: CDKN2A\n",
      "  Model 1 Function: NPM1\n",
      "  Model 2 Function: !BMI1&(ETS1|ROS1)\n",
      "  Merged Function: !BMI1&(ETS1|NPM1|ROS1)\n",
      "\n",
      "Gene: AKT1\n",
      "  Model 1 Function: FLT3\n",
      "  Model 2 Function: PIK3CA\n",
      "  Merged Function: FLT3|PIK3CA\n",
      "\n",
      "Gene: TP53\n",
      "  Model 1 Function: CDKN2A\n",
      "  Model 2 Function: !MDM2\n",
      "  Merged Function: CDKN2A&!MDM2\n",
      "\n",
      "Gene: GSK3B\n",
      "  Model 1 Function: !AKT1\n",
      "  Model 2 Function: !AKT1\n",
      "  Merged Function: !AKT1\n",
      "\n",
      "Gene: MYC\n",
      "  Model 1 Function: MAPK1&(!FBXW7|!GSK3B)\n",
      "  Model 2 Function: CTNNB1&!GSK3B\n",
      "  Merged Function: !FBXW7&!GSK3B&(CTNNB1|MAPK1)\n"
     ]
    }
   ],
   "source": [
    "# Merge using Inhibitor Wins approach\n",
    "merged_network_inhibitor_wins = LM_merger.merge_networks([network1, network2], method=\"Inhibitor Wins\")"
   ]
  },
  {
   "cell_type": "code",
   "execution_count": null,
   "id": "453520b2-ab60-44b6-bbad-171cb0822649",
   "metadata": {},
   "outputs": [],
   "source": []
  },
  {
   "cell_type": "code",
   "execution_count": 8,
   "id": "5a20c879-19b3-4853-bf46-c8279cb2e0f6",
   "metadata": {},
   "outputs": [
    {
     "name": "stdout",
     "output_type": "stream",
     "text": [
      "Network successfully written to ../Models/merged_and_Palma2021_Ikonomi2020.txt\n",
      "Network successfully written to ../Models/merged_inhibitor_wins_Palma2021_Ikonomi2020.txt\n",
      "Network successfully written to ../Models/merged_or_Palma2021_Ikonomi2020.txt\n",
      "Network successfully written to ../Models/merged_and_Palma2021_Ikonomi2020.sbml\n",
      "Network successfully written to ../Models/merged_inhibitor_wins_Palma2021_Ikonomi2020.sbml\n",
      "Network successfully written to ../Models/merged_or_Palma2021_Ikonomi2020.sbml\n"
     ]
    }
   ],
   "source": [
    "merged_and_name = \"merged_and_\" + model1name + \"_\" + model2name\n",
    "merged_inhibitor_wins_name = \"merged_inhibitor_wins_\" + model1name + \"_\" + model2name\n",
    "merged_or_name = \"merged_or_\" + model1name + \"_\" + model2name\n",
    "\n",
    "LM_merger.write_network_to_file(merged_network_and,  \"../Models/\" + merged_and_name, format=\"text\")\n",
    "LM_merger.write_network_to_file(merged_network_inhibitor_wins, \"../Models/\" + merged_inhibitor_wins_name, format=\"text\")\n",
    "LM_merger.write_network_to_file(merged_network_or, \"../Models/\" + merged_or_name, format=\"text\")\n",
    "LM_merger.write_network_to_file(merged_network_and,  \"../Models/\" + merged_and_name, format=\"sbml\")\n",
    "LM_merger.write_network_to_file(merged_network_inhibitor_wins, \"../Models/\" + merged_inhibitor_wins_name, format=\"sbml\")\n",
    "LM_merger.write_network_to_file(merged_network_or,  \"../Models/\" + merged_or_name, format=\"sbml\")\n"
   ]
  }
 ],
 "metadata": {
  "kernelspec": {
   "display_name": "3.12.1",
   "language": "python",
   "name": "python3"
  },
  "language_info": {
   "codemirror_mode": {
    "name": "ipython",
    "version": 3
   },
   "file_extension": ".py",
   "mimetype": "text/x-python",
   "name": "python",
   "nbconvert_exporter": "python",
   "pygments_lexer": "ipython3",
   "version": "3.12.1"
  }
 },
 "nbformat": 4,
 "nbformat_minor": 5
}
