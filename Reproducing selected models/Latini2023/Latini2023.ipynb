{
 "cells": [
  {
   "cell_type": "markdown",
   "metadata": {},
   "source": [
    "# Reproduce the Latini 2023 model\n",
    "\n",
    ">Latini Sara, Venafra Veronica, Massacci Giorgia, Bica Valeria, Graziosi Simone, Pugliese Giusj Monia, Iannuccelli Marta, Frioni Filippo, Minnella Gessica, Marra John Donald, Chiusolo Patrizia, Pepe Gerardo, Helmer-Citterich Manuela, Mougiakakos Dimitrios, Boettcher Martin, Fischer Thomas, Perfetto Livia, Sacco Francesca (2023) Unveiling the signaling network of FLT3-ITD AML improves drug sensitivity prediction eLife 12:RP90532\n",
    "https://doi.org/10.7554/eLife.90532.1\n",
    "\n",
    "**Goal:**\n",
    "   \n",
    "To investigate drug sensitivity using genotype specific Boolean models.\n",
    "\n",
    "**Knowledge source:**\n",
    "  \n",
    "1. The SIGNOR database,  to build a prior-knowledge network (PKN) recapitulating known signaling pathways downstream of the FLT3 receptor.\n",
    "2. Experiments results of the activity status of the sentinel proteins under 16 different perturbation conditions in TKIs sensitive and resistant cells to generate the training dataset.\n",
    "\n",
    "\n",
    "**Representation:**\n",
    "  \n",
    "Boolean network  \n",
    "![Figure 3](Figure3.png) \n",
    "\n",
    "**Tools:**\n",
    "  \n",
    "1. CellNOptR was used to derive biologically relevant information from the training dataset and generate FLT3-ITD-specific predictive models\n",
    "2. ProxPath algorithm, a graph-based method that given a set of proteins, estimates its regulatory impact over phenotypes and pathways annotated in SIGNOR\n",
    "\n",
    "**in silico & in vitro validation:**\n",
    "  \n",
    "1. They performed a targeted in silico approach in FLT3-ITD-TKD and FLT3-ITD-JMD cells, by simulating the levels of apoptosis and proliferation, upon combinatorial knockout of FLT3 and one of the following key druggable kinases: ERK1/2, MEK1/2, GSK3A/B, IGF1R, JNK, KRAS, MEK1/2, mTOR, PDPK1, PI3K, p38.\n",
    "2. Then tested in vitro whether the pharmacological suppression of JNK using a highly selective inhibitor could increase the sensitivity of FLT3ITD-TKD cells to TKI treatment.\n",
    "3. They have also used patients’ data to perform an in silico combined treatment of patients simulating their mutations with the inhibition of FLT3 and a key signaling kinase."
   ]
  },
  {
   "cell_type": "code",
   "execution_count": 1,
   "metadata": {},
   "outputs": [
    {
     "data": {
      "text/markdown": [
       "This notebook has been executed using the docker image `colomoto/colomoto-docker:2024-01-01`"
      ],
      "text/plain": [
       "<IPython.core.display.Markdown object>"
      ]
     },
     "metadata": {},
     "output_type": "display_data"
    },
    {
     "data": {
      "text/html": [
       "<script type=\"text/javascript\" id=\"colomoto-setup-5653303\" class=\"to-be-removed\">\n",
       "        if (typeof Jupyter != 'undefined') {\n",
       "            \n",
       "function detect_import(cell, module) {\n",
       "    var code = cell.get_text();\n",
       "    code = code.replace(/\\\\\\n/g, \"\");\n",
       "    var lines = code.split(\"\\n\");\n",
       "    var r_simple = new RegExp(\"^(\"+module+\")$\");\n",
       "    var r_alias = new RegExp(\"^\"+module+\"\\\\s+as\\\\s+(\\\\w+)$\");\n",
       "    for (var i = 0; i < lines.length; ++i) {\n",
       "        if (/^import\\s/.test(lines[i])) {\n",
       "            code = lines[i].substr(7);\n",
       "            var parts = code.split(\",\")\n",
       "            for (var j = 0; j < parts.length; ++j) {\n",
       "                code = parts[j].trim();\n",
       "                var m = code.match(r_simple);\n",
       "                if (!m) {\n",
       "                    m = code.match(r_alias);\n",
       "                }\n",
       "                if (m) {\n",
       "                    return m[1];\n",
       "                }\n",
       "            }\n",
       "        }\n",
       "    }\n",
       "    return module;\n",
       "}\n",
       "\n",
       "function colomoto_replace_call(cell, orig, dest, args, comment=false) {\n",
       "    var call_regexp = new RegExp(\"\\\\.\"+orig.replace(\".\",\"\\\\.\")+\"\\\\(\");\n",
       "    var call_replacer = new RegExp(\"\\\\.\"+orig.replace(\".\",\"\\\\.\")\n",
       "                    + \"\\\\(\\\\s*([^\\\\)]*)?\\\\)\");\n",
       "    var code = cell.get_text();\n",
       "    var lines = code.split(\"\\n\");\n",
       "    if (args) {\n",
       "        var strargs = \", \"+args.join(\", \");\n",
       "    } else {\n",
       "        var strargs = \"\";\n",
       "    }\n",
       "    for (var i = 0; i < lines.length; ++i) {\n",
       "        if (call_regexp.test(lines[i])) {\n",
       "            var code = \"\"\n",
       "            if (comment) {\n",
       "                code += \"#\"+lines[i]+\"\\n\";\n",
       "            }\n",
       "            code += lines[i].replace(call_replacer, \".\"+dest+\"($1\"+strargs+\")\")\n",
       "            lines[i] = code;\n",
       "        }\n",
       "    }\n",
       "    cell.set_text(code)\n",
       "}\n",
       "\n",
       "function colomoto_upload(Jupyter, ssid, input, py_callback_name, orig, dest) {\n",
       "\n",
       "    function callback(out_data) {\n",
       "        var cell_element = $(\"#\"+ssid).parents('.cell');\n",
       "        var cell_idx = Jupyter.notebook.get_cell_elements().index(cell_element);\n",
       "        var cell = Jupyter.notebook.get_cell(cell_idx);\n",
       "\n",
       "        var filename = out_data.content.text;\n",
       "\n",
       "        var code = cell.get_text();\n",
       "        code = code.replace(new RegExp(\"\\\\b\" + orig.replace('.', '\\\\.')\n",
       "                    + \"\\\\(\\\\s*((\\\\w+)=[^\\\\)]*)?\\\\)\"),\n",
       "                dest+\"(\\\"\"+filename+\"\\\",$1)\");\n",
       "        code = code.replace('\",)', '\")')\n",
       "        cell.set_text(code);\n",
       "\n",
       "        Jupyter.notebook.select(cell_idx);\n",
       "        Jupyter.notebook.execute_cell_and_select_below();\n",
       "    }\n",
       "\n",
       "    if (! (window.File && window.FileReader && window.FileList && window.Blob)) {\n",
       "        alert(\"Interactive file upload is not supported by your browser.\");\n",
       "        return;\n",
       "    }\n",
       "\n",
       "    input.disabled = true;\n",
       "    input.style.cursor = \"wait\";\n",
       "    input.parentElement.style.cursor = \"wait\";\n",
       "\n",
       "    var f = input.files[0];\n",
       "    var reader = new FileReader();\n",
       "    reader.onload = (function(f) {\n",
       "        return function (e) {\n",
       "            var obj = {\n",
       "                content: e.target.result,\n",
       "                name: f.name\n",
       "            };\n",
       "\n",
       "            //var pycb = py_callback_name+\"(\"+JSON.stringify(obj)+\")\"\n",
       "            // hack/workaround:\n",
       "            // it seems that Jupyter does not like very long lines\n",
       "            // so we split the data in chunks\n",
       "            var chunk_length = 100;\n",
       "            var pycb = \"__colomoto_upload_name = \" + JSON.stringify(obj.name) + \"\\n\";\n",
       "            pycb += \"__colomoto_upload_content = \\\\\\n\";\n",
       "            for (var i = 0; i < obj.content.length; i += chunk_length) {\n",
       "                pycb += \"\\\"\" + obj.content.substr(i, chunk_length)+\"\\\"\\\\\\n\"\n",
       "            }\n",
       "            pycb += \"\\n\"\n",
       "            pycb += py_callback_name+\"({'name':__colomoto_upload_name, 'content': __colomoto_upload_content})\\n\";\n",
       "            pycb += \"del __colomoto_upload_name, __colomoto_upload_content\"\n",
       "\n",
       "            IPython.notebook.kernel.execute(pycb, {iopub: {output: callback}});\n",
       "        };\n",
       "    })(f);\n",
       "    reader.readAsDataURL(f);\n",
       "}\n",
       "\n",
       "function resolve_function(tool_api, funcname) {\n",
       "    if (tool_api.hasOwnProperty(funcname)) {\n",
       "        return tool_api[funcname];\n",
       "    } else {\n",
       "        return window[funcname];\n",
       "    }\n",
       "}\n",
       "\n",
       "function colomoto_extension(Jupyter, ssid, name, menu, toolbar, tool_api) {\n",
       "\n",
       "    function insert_snippet_code(snippet) {\n",
       "        var cell = Jupyter.notebook.get_selected_cell();\n",
       "        Jupyter.notebook.edit_mode();\n",
       "        cell.code_mirror.replaceSelection(snippet, 'around');\n",
       "        //cell.focus_editor();\n",
       "    }\n",
       "\n",
       "    /**\n",
       "        from https://github.com/moble/jupyter_boilerplate/blob/master/main.js\n",
       "    */\n",
       "    function callback_insert_snippet (evt) {\n",
       "        // this (or event.currentTarget, see below) always refers to the DOM\n",
       "        // element the listener was attached to - see\n",
       "        // http://stackoverflow.com/questions/12077859\n",
       "        insert_snippet_code($(evt.currentTarget).data('snippet-code'));\n",
       "    }\n",
       "    function build_menu_element (menu_item_spec, direction) {\n",
       "        // Create the menu item html element\n",
       "        var element = $('<li/>');\n",
       "\n",
       "        if (typeof menu_item_spec == 'string') {\n",
       "            if (menu_item_spec != '---') {\n",
       "                return element.html(menu_item_spec)\n",
       "                        .addClass('ui-state-disabled')\n",
       "                        .attr({\"style\": \"padding:2px .4em\"})\n",
       "                       ;\n",
       "            }\n",
       "            return element.addClass('divider');\n",
       "        }\n",
       "\n",
       "        var a = $('<a/>')\n",
       "            .attr('href', '#')\n",
       "            .html(menu_item_spec.name)\n",
       "            .appendTo(element);\n",
       "        if (menu_item_spec.hasOwnProperty('snippet')) {\n",
       "            var snippet = menu_item_spec.snippet;\n",
       "            if (typeof snippet == 'string' || snippet instanceof String) {\n",
       "                snippet = [snippet];\n",
       "            }\n",
       "            a.attr({\n",
       "                'title' : \"\", // Do not remove this, even though it's empty!\n",
       "                'data-snippet-code' : snippet.join('\\n'),\n",
       "            })\n",
       "            .on('click', callback_insert_snippet)\n",
       "            .addClass('snippet');\n",
       "        }\n",
       "        else if (menu_item_spec.hasOwnProperty('internal-link')) {\n",
       "            a.attr('href', menu_item_spec['internal-link']);\n",
       "        }\n",
       "        else if (menu_item_spec.hasOwnProperty('external-link')) {\n",
       "            a.empty();\n",
       "            a.attr('href', menu_item_spec['external-link']);\n",
       "            a.attr({\n",
       "                'target' : '_blank',\n",
       "                'title' : 'Opens in a new window',\n",
       "            });\n",
       "            $('<i class=\"fa fa-external-link menu-icon pull-right\"/>').appendTo(a);\n",
       "            $('<span/>').html(menu_item_spec.name).appendTo(a);\n",
       "        }\n",
       "\n",
       "        if (menu_item_spec.hasOwnProperty('sub-menu')) {\n",
       "            element\n",
       "                .addClass('dropdown-submenu')\n",
       "                .toggleClass('dropdown-submenu-left', direction === 'left');\n",
       "            var sub_element = $('<ul class=\"dropdown-menu\"/>')\n",
       "                .toggleClass('dropdown-menu-compact', menu_item_spec.overlay === true) // For space-saving menus\n",
       "                .appendTo(element);\n",
       "\n",
       "            var new_direction = (menu_item_spec['sub-menu-direction'] === 'left') ? 'left' : 'right';\n",
       "            for (var j=0; j<menu_item_spec['sub-menu'].length; ++j) {\n",
       "                var sub_menu_item_spec = build_menu_element(menu_item_spec['sub-menu'][j], new_direction);\n",
       "                if(sub_menu_item_spec !== null) {\n",
       "                    sub_menu_item_spec.appendTo(sub_element);\n",
       "                }\n",
       "            }\n",
       "        }\n",
       "\n",
       "        return element;\n",
       "    }\n",
       "\n",
       "    function menu_setup (menu_item_specs, sibling, insert_before_sibling) {\n",
       "        for (var i=0; i<menu_item_specs.length; ++i) {\n",
       "            var menu_item_spec;\n",
       "            if (insert_before_sibling) {\n",
       "                menu_item_spec = menu_item_specs[i];\n",
       "            } else {\n",
       "                menu_item_spec = menu_item_specs[menu_item_specs.length-1-i];\n",
       "            }\n",
       "            var direction = (menu_item_spec['menu-direction'] == 'left') ? 'left' : 'right';\n",
       "            var menu_element = build_menu_element(menu_item_spec, direction);\n",
       "            // We need special properties if this item is in the navbar\n",
       "            if ($(sibling).parent().is('ul.nav.navbar-nav')) {\n",
       "                menu_element\n",
       "                    .addClass('dropdown')\n",
       "                    .removeClass('dropdown-submenu dropdown-submenu-left');\n",
       "                menu_element.children('a')\n",
       "                    .addClass('dropdown-toggle')\n",
       "                    .attr({\n",
       "                        'id': name+'_menu',\n",
       "                        'data-toggle' : 'dropdown',\n",
       "                        'aria-expanded' : 'false'\n",
       "                    });\n",
       "            }\n",
       "\n",
       "            // Insert the menu element into DOM\n",
       "            menu_element[insert_before_sibling ? 'insertBefore': 'insertAfter'](sibling);\n",
       "        }\n",
       "    }\n",
       "    /** end from */\n",
       "\n",
       "\n",
       "    function self_cleanup() {\n",
       "        var cell_element = $(\"script[class='to-be-removed']\").parents('.cell');\n",
       "        var cell_idx = Jupyter.notebook.get_cell_elements().index(cell_element);\n",
       "        var cell = Jupyter.notebook.get_cell(cell_idx);\n",
       "        var to_remove = -1;\n",
       "        for (var i = 0; i < cell.output_area.outputs.length; ++i) {\n",
       "            var oa = cell.output_area.outputs[i];\n",
       "            if (oa.output_type == \"display_data\"\n",
       "                && typeof oa.data[\"text/html\"] != 'undefined'\n",
       "                && oa.data[\"text/html\"].indexOf(' class=\"to-be-removed\"') >= 0) {\n",
       "                to_remove = i;\n",
       "                break;\n",
       "            }\n",
       "        }\n",
       "        if (to_remove == -1) {\n",
       "            console.log(\"cannot find toberemoved\");\n",
       "        } else {\n",
       "            cell.output_area.outputs.splice(to_remove, 1);\n",
       "        }\n",
       "    }\n",
       "\n",
       "    function toolbar_setup(actions) {\n",
       "        var buttons = [];\n",
       "        for (var i = 0; i < actions.length; ++i) {\n",
       "            var setup = actions[i].setup;\n",
       "            if (typeof setup.handler == 'string') {\n",
       "                setup.handler = resolve_function(tool_api, setup.handler);\n",
       "            }\n",
       "            buttons.push(Jupyter.actions.register(actions[i].setup,\n",
       "                actions[i].name, name));\n",
       "        }\n",
       "        $(\"#\"+name+\"-toolbar\").remove();\n",
       "        Jupyter.toolbar.add_buttons_group(buttons, name+\"-toolbar\");\n",
       "    }\n",
       "\n",
       "    function replace_menu_snippets(menu_spec, orig, dest) {\n",
       "        if (menu_spec.hasOwnProperty(\"snippet\")) {\n",
       "            var snippet = menu_spec.snippet;\n",
       "            if (typeof snippet == \"string\" || snippet instanceof String) {\n",
       "                menu_spec[\"snippet\"] = snippet.replace(orig, dest);\n",
       "            } else {\n",
       "                for (var i = 0; i < snippet.length; ++i) {\n",
       "                    menu_spec[\"snippet\"][i] = snippet[i].replace(orig, dest);\n",
       "                }\n",
       "            }\n",
       "        }\n",
       "        if (menu_spec.hasOwnProperty(\"sub-menu\")) {\n",
       "            for (var i = 0; i < menu_spec[\"sub-menu\"].length; ++i) {\n",
       "                replace_menu_snippets(menu_spec[\"sub-menu\"][i], orig, dest);\n",
       "            }\n",
       "        }\n",
       "    }\n",
       "\n",
       "    function load_ipython_extension() {\n",
       "\n",
       "        var mycellelt = $(\"#\"+ssid).parents('.cell');\n",
       "        var myidx = Jupyter.notebook.get_cell_elements().index(mycellelt);\n",
       "        var import_cell = Jupyter.notebook.get_cell(myidx);\n",
       "\n",
       "        var alias = detect_import(import_cell, name);\n",
       "        tool_api.module_alias = alias;\n",
       "        if (alias && alias != name) {\n",
       "            var orig = new RegExp(\"\\\\b\"+name+\"\\\\b\", \"g\");\n",
       "            replace_menu_snippets(menu, orig, alias);\n",
       "        }\n",
       "\n",
       "        if (toolbar) {\n",
       "            toolbar_setup(toolbar);\n",
       "        }\n",
       "\n",
       "        $(\"#\"+name+\"_menu\").parent().remove();\n",
       "        if (menu) {\n",
       "            menu_setup([menu], $(\"#help_menu\").parent(), true);\n",
       "        }\n",
       "\n",
       "        if (tool_api.hasOwnProperty(\"post_install_callback\")) {\n",
       "            tool_api.post_install_callback();\n",
       "        }\n",
       "\n",
       "        setTimeout(self_cleanup, 5000);\n",
       "    };\n",
       "\n",
       "    load_ipython_extension();\n",
       "}\n",
       "\n",
       "function resolve_toolbar_handlers(tool_api, toolbar_spec) {\n",
       "    for (var i = 0; i < toolbar_spec.length; ++i) {\n",
       "        func = resolve_function(tool_api, toolbar_spec[i][\"setup\"][\"handler\"]);\n",
       "        toolbar_spec[i][\"setup\"][\"handler\"] = func;\n",
       "    }\n",
       "    return toolbar_spec\n",
       "}\n",
       "\n",
       "\n",
       "    var biolqm_jsapi = { action_upload_model: function() {\n",
       "        var cell = Jupyter.notebook.get_selected_cell();\n",
       "        cell.set_text('lqm = '+biolqm_jsapi.module_alias+'.upload()');\n",
       "        cell.focus_editor();\n",
       "    } };\n",
       "    colomoto_extension(Jupyter, \"colomoto-setup-5653303\", \"biolqm\", {\"name\": \"bioLQM\", \"sub-menu\": [{\"name\": \"Upload model\", \"snippet\": [\"lqm = biolqm.upload()\"]}, {\"name\": \"Load model\", \"snippet\": [\"lqm = biolqm.load(\\\"model.sbml\\\")\"]}, \"---\", {\"name\": \"Export to file\", \"sub-menu\": [{\"name\": \"SBML-qual v1.0 (.sbml)\", \"snippet\": [\"biolqm.save(lqm, \\\"mymodel.sbml\\\", \\\"sbml\\\")\"]}, \"Functions formats\", {\"name\": \"BoolNet (.bnet)\", \"snippet\": [\"biolqm.save(lqm, \\\"mymodel.bnet\\\", \\\"bnet\\\")\"]}, {\"name\": \"BooleanNet (.booleannet)\", \"snippet\": [\"biolqm.save(lqm, \\\"mymodel.booleannet\\\", \\\"booleannet\\\")\"]}, {\"name\": \"BoolSim (.boolsim)\", \"snippet\": [\"biolqm.save(lqm, \\\"mymodel.boolsim\\\", \\\"boolsim\\\")\"]}, {\"name\": \"Raw Boolean functions (.boolfunctions)\", \"snippet\": [\"biolqm.save(lqm, \\\"mymodel.boolfunctions\\\", \\\"boolfunctions\\\")\"]}, {\"name\": \"Truth table (.tt)\", \"snippet\": [\"biolqm.save(lqm, \\\"mymodel.tt\\\", \\\"tt\\\")\"]}, \"Petri net formats\", {\"name\": \"APNN (.apnn)\", \"snippet\": [\"biolqm.save(lqm, \\\"mymodel.apnn\\\", \\\"apnn\\\")\"]}, {\"name\": \"INA (.ina)\", \"snippet\": [\"biolqm.save(lqm, \\\"mymodel.ina\\\", \\\"ina\\\")\"]}, {\"name\": \"PNML (.pnml)\", \"snippet\": [\"biolqm.save(lqm, \\\"mymodel.pnml\\\", \\\"pnml\\\")\"]}, \"Dedicated formats\", {\"name\": \"GINML (.ginml)\", \"snippet\": [\"biolqm.save(lqm, \\\"mymodel.ginml\\\", \\\"ginml\\\")\"]}, {\"name\": \"GNA non-xml (.gna)\", \"snippet\": [\"biolqm.save(lqm, \\\"mymodel.gna\\\", \\\"gna\\\")\"]}, {\"name\": \"MaBoSS (.bnd)\", \"snippet\": [\"biolqm.save(lqm, \\\"mymodel.bnd\\\", \\\"bnd\\\")\"]}, {\"name\": \"Pint (.an)\", \"snippet\": [\"biolqm.save(lqm, \\\"mymodel.an\\\", \\\"an\\\")\"]}]}, {\"name\": \"Convert to tool\", \"sub-menu\": [{\"name\": \"GINsim\", \"snippet\": [\"lrg = biolqm.to_ginsim(lqm)\"]}, {\"name\": \"MaBoSS\", \"snippet\": [\"masim = biolqm.to_maboss(lqm)\"]}, {\"name\": \"Pint\", \"snippet\": [\"an = biolqm.to_pint(lqm)\"]}]}, \"---\", {\"name\": \"Compute fixpoints\", \"snippet\": [\"fps = biolqm.fixpoints(lqm)\"]}, {\"name\": \"Compute trap spaces\", \"snippet\": [\"traps = biolqm.trapspace(lqm)\"]}, \"---\", {\"name\": \"Model modifications\", \"sub-menu\": [{\"name\": \"Perturbation\", \"snippet\": [\"lqm_mod = biolqm.perturbation(lqm, \\\"node%0\\\")\"]}, {\"name\": \"Booleanization\", \"snippet\": [\"lqm_bool = biolqm.booleanize(lqm)\"]}, {\"name\": \"Reduction\", \"snippet\": [\"lqm_red = biolqm.reduce(lqm, \\\"fixed,output,duplicate\\\")\"]}, {\"name\": \"Reversal\", \"snippet\": [\"lqm_rev = biolqm.reverse(lqm)\"]}, {\"name\": \"Sanitize\", \"snippet\": [\"lqm_san = biolqm.sanitize(lqm)\"]}]}, \"---\", {\"name\": \"Documentation\", \"external-link\": \"http://ginsim.naldi.info/biolqm/site/doc/index.html\"}]}, [{\"name\": \"upload\", \"setup\": {\"icon\": \"fa-upload\", \"help\": \"Upload model\", \"handler\": \"action_upload_model\"}}], biolqm_jsapi);\n",
       "     }</script><style type=\"text/css\">\n",
       "    #biolqm_menu {\n",
       "        color: #00007f;\n",
       "        background-color: white;\n",
       "    }\n",
       "    \n",
       "    div#biolqm-toolbar:before {\n",
       "        content: \"bioLQM\";\n",
       "        float: left;\n",
       "        margin-left: 1em;\n",
       "        margin-right: 1em;\n",
       "        margin-top: 0.2em;\n",
       "    }\n",
       "    div#biolqm-toolbar,\n",
       "    div#biolqm-toolbar button {\n",
       "        color: #00007f;\n",
       "    }\n",
       "    </style>"
      ],
      "text/plain": [
       "<IPython.core.display.HTML object>"
      ]
     },
     "metadata": {},
     "output_type": "display_data"
    },
    {
     "data": {
      "text/html": [
       "<script type=\"text/javascript\" id=\"colomoto-setup-1366221\" class=\"to-be-removed\">\n",
       "        if (typeof Jupyter != 'undefined') {\n",
       "            \n",
       "    var ginsim_jsapi = { action_upload_model: function() {\n",
       "        var cell = Jupyter.notebook.get_selected_cell();\n",
       "        cell.set_text('lrg = '+ginsim_jsapi.module_alias+'.upload()');\n",
       "        cell.focus_editor();\n",
       "    } };\n",
       "    colomoto_extension(Jupyter, \"colomoto-setup-1366221\", \"ginsim\", {\"name\": \"GINsim\", \"sub-menu\": [{\"name\": \"Upload model\", \"snippet\": [\"lrg = ginsim.upload()\"]}, {\"name\": \"Load model\", \"snippet\": [\"lrg = ginsim.load(\\\"model.zginml\\\")\"]}, \"---\", {\"name\": \"Export to file\", \"sub-menu\": [{\"name\": \"MaBoSS (.bnd, .cfg)\", \"snippet\": [\"ginsim.service(\\\"maboss\\\").export(lrg, \\\"mymodel.bnd\\\")\"]}]}, {\"name\": \"Convert to tool\", \"sub-menu\": [{\"name\": \"bioLQM\", \"snippet\": [\"lqm = ginsim.to_biolqm(lrg)\"]}, {\"name\": \"MaBoSS\", \"snippet\": [\"masim = ginsim.to_maboss(lrg)\"]}, {\"name\": \"NuSMV\", \"snippet\": [\"smv = ginsim.to_nusmv(lrg)\"]}, {\"name\": \"Pint\", \"snippet\": [\"an = ginsim.to_pint(lrg)\"]}]}, \"---\", {\"name\": \" Display regulatory graph\", \"snippet\": [\"ginsim.show(lrg)\"]}]}, [{\"name\": \"upload\", \"setup\": {\"icon\": \"fa-upload\", \"help\": \"Upload model\", \"handler\": \"action_upload_model\"}}], ginsim_jsapi);\n",
       "     }</script><style type=\"text/css\">\n",
       "    #ginsim_menu {\n",
       "        color: blue;\n",
       "        background-color: white;\n",
       "    }\n",
       "    \n",
       "    div#ginsim-toolbar:before {\n",
       "        content: \"GINsim\";\n",
       "        float: left;\n",
       "        margin-left: 1em;\n",
       "        margin-right: 1em;\n",
       "        margin-top: 0.2em;\n",
       "    }\n",
       "    div#ginsim-toolbar,\n",
       "    div#ginsim-toolbar button {\n",
       "        color: blue;\n",
       "    }\n",
       "    </style>"
      ],
      "text/plain": [
       "<IPython.core.display.HTML object>"
      ]
     },
     "metadata": {},
     "output_type": "display_data"
    },
    {
     "data": {
      "text/html": [
       "<script type=\"text/javascript\" id=\"colomoto-setup-5698838\" class=\"to-be-removed\">\n",
       "        if (typeof Jupyter != 'undefined') {\n",
       "            \n",
       "    var minibn_jsapi = {  };\n",
       "    colomoto_extension(Jupyter, \"colomoto-setup-5698838\", \"minibn\", null, null, minibn_jsapi);\n",
       "     }</script>"
      ],
      "text/plain": [
       "<IPython.core.display.HTML object>"
      ]
     },
     "metadata": {},
     "output_type": "display_data"
    },
    {
     "data": {
      "text/html": [
       "<script type=\"text/javascript\" id=\"colomoto-setup-6466569\" class=\"to-be-removed\">\n",
       "        if (typeof Jupyter != 'undefined') {\n",
       "            \n",
       "    var mymodule_jsapi = {  };\n",
       "    colomoto_extension(Jupyter, \"colomoto-setup-6466569\", \"mymodule\", {\"name\": \"MaBoSS\", \"sub-menu\": [{\"name\": \"Load MaBoSS file\", \"snippet\": [\"masim = maboss.load(\\\"filename.bnd\\\", \\\"filename.cfg\\\")\"]}, {\"name\": \"Network\", \"sub-menu\": [{\"name\": \"Set istate\", \"snippet\": [\"maboss.wg_set_istate(masim)\"]}, {\"name\": \"Get initial state\", \"snippet\": [\"masim.get_initial_state()\"]}]}, {\"name\": \"Simulation\", \"sub-menu\": [{\"name\": \"Create mutant\", \"snippet\": [\"maboss.wg_make_mutant(masim)\"]}, {\"name\": \"Run\", \"snippet\": [\"simres = masim.run()\"]}, {\"name\": \"Set initial states\", \"snippet\": [\"masim.network.set_istate([\\\"mygenelist\\\"],{})\"]}, {\"name\": \"Set output\", \"snippet\": [\"maboss.wg_set_output(masim)\"]}]}, {\"name\": \"Results\", \"sub-menu\": [{\"name\": \"Save results\", \"snippet\": [\"simres.save(\\\"filename\\\")\"]}, {\"name\": \"Plot piechart\", \"snippet\": [\"simres.plot_piechart()\"]}, {\"name\": \"Plot trajectory\", \"snippet\": [\"simres.plot_trajectory()\"]}]}, {\"name\": \"Conversion\", \"sub-menu\": [{\"name\": \"Convert to biolqm\", \"snippet\": [\"biolqm_model = maboss.to_biolqm(masim)\"]}, {\"name\": \"Convert to minibn\", \"snippet\": [\"minibn_model = maboss.to_minibn(masim)\"]}]}, \"---\", {\"name\": \"Documentation\", \"external-link\": \"http://pymaboss.readthedocs.io\"}]}, null, mymodule_jsapi);\n",
       "     }</script><style type=\"text/css\">\n",
       "    #mymodule_menu {\n",
       "        color: green;\n",
       "        background-color: white;\n",
       "    }\n",
       "    </style>"
      ],
      "text/plain": [
       "<IPython.core.display.HTML object>"
      ]
     },
     "metadata": {},
     "output_type": "display_data"
    },
    {
     "data": {
      "text/html": [
       "<script type=\"text/javascript\" id=\"colomoto-setup-3207622\" class=\"to-be-removed\">\n",
       "        if (typeof Jupyter != 'undefined') {\n",
       "            \n",
       "    var pypint_jsapi = { action_upload_model: function() {\n",
       "        var cell = Jupyter.notebook.get_selected_cell();\n",
       "        cell.set_text('an = '+pypint_jsapi.module_alias+'.load()');\n",
       "        cell.focus_editor();\n",
       "    },\n",
       "action_enable_debug: function() {\n",
       "        IPython.notebook.kernel.execute(pypint_jsapi.module_alias+\".enable_dbg()\");\n",
       "        pypint_jsapi.debug_enabled(true);\n",
       "    },\n",
       "action_disable_debug: function() {\n",
       "        IPython.notebook.kernel.execute(pypint_jsapi.module_alias+\".disable_dbg()\");\n",
       "        pypint_jsapi.debug_enabled(false);\n",
       "    },\n",
       "btn_enable_debug: null,\n",
       "btn_disable_debug: null,\n",
       "debug_enabled: function(enabled) {\n",
       "        if (enabled) {\n",
       "            this.btn_enable_debug.hide();\n",
       "            this.btn_disable_debug.show();\n",
       "        } else {\n",
       "            this.btn_enable_debug.show();\n",
       "            this.btn_disable_debug.hide();\n",
       "        }\n",
       "    },\n",
       "post_install_callback: function() {\n",
       "        this.btn_enable_debug = $(\"#pypint-toolbar > button[data-jupyter-action='pypint:enable-debug']\");\n",
       "        this.btn_disable_debug = $(\"#pypint-toolbar > button[data-jupyter-action='pypint:disable-debug']\");\n",
       "        this.btn_enable_debug[0].innerHTML = \"enable debug\";\n",
       "        this.btn_disable_debug[0].innerHTML = \"disable debug\";\n",
       "        this.debug_enabled(0);\n",
       "    } };\n",
       "    colomoto_extension(Jupyter, \"colomoto-setup-3207622\", \"pypint\", {\"name\": \"Pint\", \"sub-menu\": [{\"name\": \"Load model\", \"snippet\": [\"an = pypint.load(\\\"filename_or_URL\\\")\"]}, {\"name\": \"Upload model\", \"snippet\": [\"an = pypint.load()\"]}, \"---\", {\"name\": \"Model description\", \"sub-menu\": [{\"name\": \"Dependency graph\", \"snippet\": [\"an.dependency_graph()\"]}, {\"name\": \"Model summary\", \"snippet\": [\"an.summary()\"]}]}, {\"name\": \"Export to file\", \"sub-menu\": [{\"name\": \"Pint native format (.an)\", \"snippet\": [\"an.export(\\\"an\\\")\"]}, {\"name\": \"NuSMV file (.smv)\", \"snippet\": [\"an.export(\\\"nusmv\\\")\"]}, {\"name\": \"Safe Petri net in PEP format (.ll)\", \"snippet\": [\"an.export(\\\"pep\\\")\"]}, {\"name\": \"Safe Petri net in ROMEO format (.xml)\", \"snippet\": [\"an.export(\\\"romeo\\\")\"]}]}, {\"name\": \"Convert to tool\", \"sub-menu\": [{\"name\": \"ITS-Tools\", \"snippet\": [\"itsm = an.to_its()\"]}, {\"name\": \"NuSMV\", \"snippet\": [\"smv = an.to_nusmv()\"]}]}, \"---\", {\"name\": \"Model transformation\", \"sub-menu\": [{\"name\": \"Change initial state\", \"snippet\": [\"an.having(a=1,b=1)\"]}, {\"name\": \"Lock automata (mutations)\", \"snippet\": [\"an.lock({\\\"a\\\":1,\\\"b\\\":0})\"]}, {\"name\": \"Disable local states\", \"snippet\": [\"an.disable({\\\"a\\\":1,\\\"b\\\":1})\"]}, {\"name\": \"Goal-oriented reduction\", \"snippet\": [\"an.reduce_for_goal(\\\"a=1\\\")\"]}]}, \"---\", {\"name\": \"Compute mutations for cutting goal reachability\", \"snippet\": [\"an.oneshot_mutations_for_cut(\\\"a=1\\\")\"]}, {\"name\": \"Compute cut sets of paths to goal\", \"snippet\": [\"an.cutsets(\\\"a=1\\\")\"]}, {\"name\": \"Compute bifurcation transitions from goal\", \"snippet\": [\"an.bifurcations(\\\"a=1\\\")\"]}, {\"name\": \"Verify reachability of goal\", \"snippet\": [\"an.reachability(\\\"a=1\\\")\"]}, \"---\", {\"name\": \"Local Causality Graph\", \"sub-menu\": [{\"name\": \"Full LCG\", \"snippet\": [\"an.full_lcg()\"]}, {\"name\": \"Simple LCG for goal reachability over-approximation\", \"snippet\": [\"an.simple_lcg(\\\"a=1\\\")\"]}, {\"name\": \"Saturated LCG for goal reachability under-approximation\", \"snippet\": [\"an.saturated_lcg(\\\"a=1\\\")\"]}, {\"name\": \"Worth LCG for goal-oriented model reduction\", \"snippet\": [\"an.worth_lcg(\\\"a=1\\\")\"]}]}, \"---\", {\"name\": \"State graph analysis\", \"sub-menu\": [{\"name\": \"Count reachable states\", \"snippet\": [\"an.count_reachable_states()\"]}, {\"name\": \"Reachable state graph\", \"snippet\": [\"an.reachable_stategraph()\"]}, {\"name\": \"Reachable attractors\", \"snippet\": [\"an.reachable_attractors()\"]}, {\"name\": \"Fixpoints\", \"snippet\": [\"an.fixpoints()\"]}]}, \"---\", {\"name\": \"Goal specification\", \"sub-menu\": [{\"name\": \"Simple goal\", \"snippet\": [\"\\\"a=1\\\"\"]}, {\"name\": \"Sub-state goal\", \"snippet\": [\"\\\"a=1,b=1\\\"\"]}, {\"name\": \"Sequence of simple goals\", \"snippet\": [\"\\\"a=1\\\",\\\"b=1\\\"\"]}, {\"name\": \"Sequence of sub-state goals\", \"snippet\": [\"\\\"a=1,c=1\\\",\\\"b=1,d=0\\\"\"]}, {\"name\": \"Alternative goals\", \"snippet\": [\"pypint.Goal(\\\"a=1\\\")|pypint.Goal(\\\"b=1\\\")\"]}]}, \"---\", {\"name\": \"Documentation\", \"external-link\": \"https://loicpauleve.name/pint/doc/api.html\"}]}, [{\"name\": \"upload\", \"setup\": {\"icon\": \"fa-upload\", \"help\": \"Upload model\", \"handler\": \"action_upload_model\"}}, {\"name\": \"enable-debug\", \"setup\": {\"help\": \"Enable debug\", \"handler\": \"action_enable_debug\"}}, {\"name\": \"disable-debug\", \"setup\": {\"help\": \"Disable debug\", \"handler\": \"action_disable_debug\"}}], pypint_jsapi);\n",
       "     }</script><style type=\"text/css\">\n",
       "    #pypint_menu {\n",
       "        color: red;\n",
       "        background-color: white;\n",
       "    }\n",
       "    \n",
       "    div#pypint-toolbar:before {\n",
       "        content: \"Pint\";\n",
       "        float: left;\n",
       "        margin-left: 1em;\n",
       "        margin-right: 1em;\n",
       "        margin-top: 0.2em;\n",
       "    }\n",
       "    div#pypint-toolbar,\n",
       "    div#pypint-toolbar button {\n",
       "        color: red;\n",
       "    }\n",
       "    </style>"
      ],
      "text/plain": [
       "<IPython.core.display.HTML object>"
      ]
     },
     "metadata": {},
     "output_type": "display_data"
    }
   ],
   "source": [
    "import ginsim\n",
    "import biolqm\n",
    "import maboss\n",
    "import pypint\n",
    "import pandas as pd\n",
    "import numpy as np\n",
    "from colomoto_jupyter import tabulate # for fixpoint table display\n",
    "from itertools import combinations  # for iterating over sets\n",
    "import matplotlib.pyplot as plt # for modifying plots\n",
    "import seaborn as sns # for heatmap visualization\n",
    "#import pyboolnet # for reproduce the original results"
   ]
  },
  {
   "cell_type": "markdown",
   "metadata": {},
   "source": [
    "## Network import\n",
    "\n",
    "The model is exported from their GitHub repository [SaccoPerfettoLab/FLT3-ITD_driven_AML_Boolean_models](https://github.com/SaccoPerfettoLab/FLT3-ITD_driven_AML_Boolean_models).\n",
    "\n",
    "The following R codes are excecuted in R version 4.3.2 (2023-10-31) to generate the models in SBML-qual format:\n"
   ]
  },
  {
   "cell_type": "raw",
   "metadata": {},
   "source": [
    "```{r}\n",
    "celllines <- c('JMD', 'TKD')\n",
    "for(cellline in c('JMD', 'TKD')){\n",
    "    load(paste0('./results/', 'JMD', '_subfamily_threshold.RData'))\n",
    "    bString <- as.vector(unlist(best_100_models[1,]))\n",
    "    toSBML(modelT0, paste0('Latini2023_',celline, '.sbml'), bitString = bString, version=\"standard\")\n",
    "```"
   ]
  },
  {
   "cell_type": "markdown",
   "metadata": {},
   "source": [
    "Then visualize the two SBML-qual models."
   ]
  },
  {
   "cell_type": "code",
   "execution_count": 2,
   "metadata": {},
   "outputs": [
    {
     "data": {
      "text/html": [
       "<img class=\"unconfined\" width=\"581px\" src=\"data:image/svg+xml;base64,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\">"
      ],
      "text/plain": [
       "<IPython.core.display.HTML object>"
      ]
     },
     "execution_count": 2,
     "metadata": {},
     "output_type": "execute_result"
    }
   ],
   "source": [
    "# Load the data\n",
    "JMD_lqm = biolqm.load(\"Latini2023_JMD.sbml\")\n",
    "\n",
    "# Use the GinSIM package to visualize it\n",
    "JMD_lrg = biolqm.to_ginsim(JMD_lqm)\n",
    "ginsim.show(JMD_lrg)"
   ]
  },
  {
   "cell_type": "code",
   "execution_count": 3,
   "metadata": {},
   "outputs": [
    {
     "data": {
      "text/html": [
       "<img class=\"unconfined\" width=\"541px\" src=\"data:image/svg+xml;base64,PD94bWwgdmVyc2lvbj0iMS4wIiBlbmNvZGluZz0iVVRGLTgiPz4KPCFET0NUWVBFIHN2ZyBQVUJMSUMgIi0vL1czQy8vRFREIFNWRyAyMDAwMTEwMi8vRU4iICJodHRwOi8vd3d3LnczLm9yZy9UUi8yMDAwL0NSLVNWRy0yMDAwMTEwMi9EVEQvc3ZnLTIwMDAxMTAyLmR0ZCI+Cjxzdmcgd2lkdGg9IjU0MS4wIiBoZWlnaHQ9IjYyMy4wIiB4bWxucz0iaHR0cDovL3d3dy53My5vcmcvMjAwMC9zdmciIHZlcnNpb249IjEuMSI+CiAgPHN0eWxlIHR5cGU9InRleHQvY3NzIj4KdGV4dCB7CiAgZm9udC1mYW1pbHk6ICdTYW5zU2VyaWYnOwogIGZvbnQtc2l6ZTogMTJweDsKfQoubm9kZSAuc2hhcGUgewpmaWxsOiAjZmZmZmZmOwpzdHJva2U6ICMwMDAwMDA7Cn0KLm5vZGUgdGV4dCB7CmZpbGw6ICMwMDAwMDA7Cn0KLmVkZ2UgewpzdHJva2U6ICMwMDAwMDA7CmZpbGw6IG5vbmU7CnN0cm9rZS13aWR0aDogMTsKfQouZWRnZV9QT1NJVElWRSB7CnN0cm9rZTogIzAwYzgwMDsKfQouZWRnZV9ORUdBVElWRSB7CnN0cm9rZTogI2M4MDAwMDsKfQouZWRnZV9EVUFMIHsKc3Ryb2tlOiAjMDAwMGM4Owp9Cjwvc3R5bGU+CiAgPGRlZnM+CiAgICA8bWFya2VyIGlkPSJNYXJrZXJfUE9TSVRJVkVfMDBjODAwIiB2aWV3Qm94PSItNyAtNyAxMiAxNSIgb3JpZW50PSJhdXRvIiBtYXJrZXJIZWlnaHQ9IjkiIG1hcmtlcldpZHRoPSI5Ij4KICAgICAgPHBhdGggc3Ryb2tlPSIjMDBjODAwIiBmaWxsPSIjMDBjODAwIiBkPSJNIC00IC01IEwgLTIgMCBMIC00IDUgTCAyIDAgeiIvPgogICAgPC9tYXJrZXI+CiAgPC9kZWZzPgogIDxwYXRoIGNsYXNzPSJlZGdlIGVkZ2VfUE9TSVRJVkUiIG1hcmtlci1lbmQ9InVybCgjTWFya2VyX1BPU0lUSVZFXzAwYzgwMCkiIGQ9Ik0gMzM4LjAgNTQyLjAgTCAyODcuMCA0OTMuMCIvPgogIDxwYXRoIGNsYXNzPSJlZGdlIGVkZ2VfUE9TSVRJVkUiIG1hcmtlci1lbmQ9InVybCgjTWFya2VyX1BPU0lUSVZFXzAwYzgwMCkiIGQ9Ik0gMzE2LjAgNDAwLjAgTCAyODguMCAzMjMuMCIvPgogIDxwYXRoIGNsYXNzPSJlZGdlIGVkZ2VfUE9TSVRJVkUiIG1hcmtlci1lbmQ9InVybCgjTWFya2VyX1BPU0lUSVZFXzAwYzgwMCkiIGQ9Ik0gMzE1LjAgNDAyLjAgTCAzMTUuMCAzNDEuMCIvPgogIDxwYXRoIGNsYXNzPSJlZGdlIGVkZ2VfUE9TSVRJVkUiIG1hcmtlci1lbmQ9InVybCgjTWFya2VyX1BPU0lUSVZFXzAwYzgwMCkiIGQ9Ik0gMzQ1LjAgNDIyLjAgTCA0MTQuMCA0NDkuMCIvPgogIDxwYXRoIGNsYXNzPSJlZGdlIGVkZ2VfUE9TSVRJVkUiIG1hcmtlci1lbmQ9InVybCgjTWFya2VyX1BPU0lUSVZFXzAwYzgwMCkiIGQ9Ik0gMzExLjAgNDI5LjAgTCAyODQuMCA0NjEuMCIvPgogIDxkZWZzPgogICAgPG1hcmtlciBpZD0iTWFya2VyX05FR0FUSVZFX2M4MDAwMCIgdmlld0JveD0iLTcgLTcgMTIgMTUiIG9yaWVudD0iYXV0byIgbWFya2VySGVpZ2h0PSI5IiBtYXJrZXJXaWR0aD0iOSI+CiAgICAgIDxwYXRoIHN0cm9rZT0iI2M4MDAwMCIgZmlsbD0iI2M4MDAwMCIgZD0iTSAtMSAtNCBMIC0xIDQgTCAxIDQgTCAxIC00IHoiLz4KICAgIDwvbWFya2VyPgogIDwvZGVmcz4KICA8cGF0aCBjbGFzcz0iZWRnZSBlZGdlX05FR0FUSVZFIiBtYXJrZXItZW5kPSJ1cmwoI01hcmtlcl9ORUdBVElWRV9jODAwMDApIiBkPSJNIDMzMi4wIDQwMC4wIEwgMzgxLjAgMzUyLjAiLz4KICA8cGF0aCBjbGFzcz0iZWRnZSBlZGdlX05FR0FUSVZFIiBtYXJrZXItZW5kPSJ1cmwoI01hcmtlcl9ORUdBVElWRV9jODAwMDApIiBkPSJNIDQxNS4wIDI4Ny4wIEwgMzY1LjAgMzgzLjAiLz4KICA8cGF0aCBjbGFzcz0iZWRnZSBlZGdlX1BPU0lUSVZFIiBtYXJrZXItZW5kPSJ1cmwoI01hcmtlcl9QT1NJVElWRV8wMGM4MDApIiBkPSJNIDM5Ny4wIDI1OC4wIEwgMzE2LjAgMjU4LjAgTCAyOTQuMCAyNDUuMCIvPgogIDxwYXRoIGNsYXNzPSJlZGdlIGVkZ2VfUE9TSVRJVkUiIG1hcmtlci1lbmQ9InVybCgjTWFya2VyX1BPU0lUSVZFXzAwYzgwMCkiIGQ9Ik0gNDE2LjAgMjg3LjAgTCAzOTkuMCAzMjAuMCIvPgogIDxwYXRoIGNsYXNzPSJlZGdlIGVkZ2VfUE9TSVRJVkUiIG1hcmtlci1lbmQ9InVybCgjTWFya2VyX1BPU0lUSVZFXzAwYzgwMCkiIGQ9Ik0gMTg0LjAgMTg3LjAgTCAyNzMuMCAyOTEuMCIvPgogIDxwYXRoIGNsYXNzPSJlZGdlIGVkZ2VfTkVHQVRJVkUiIG1hcmtlci1lbmQ9InVybCgjTWFya2VyX05FR0FUSVZFX2M4MDAwMCkiIGQ9Ik0gMjc3LjAgNDYzLjAgTCAzMDguMCAzNDMuMCIvPgogIDxwYXRoIGNsYXNzPSJlZGdlIGVkZ2VfUE9TSVRJVkUiIG1hcmtlci1lbmQ9InVybCgjTWFya2VyX1BPU0lUSVZFXzAwYzgwMCkiIGQ9Ik0gMjUwLjAgNDczLjAgTCAxODQuMCA0NjIuMCIvPgogIDxwYXRoIGNsYXNzPSJlZGdlIGVkZ2VfTkVHQVRJVkUiIG1hcmtlci1lbmQ9InVybCgjTWFya2VyX05FR0FUSVZFX2M4MDAwMCkiIGQ9Ik0gMTUzLjAgNTI4LjAgTCAxNDMuMCA0NTEuMCBMIDE0My4wIDQxNi4wIi8+CiAgPHBhdGggY2xhc3M9ImVkZ2UgZWRnZV9ORUdBVElWRSIgbWFya2VyLWVuZD0idXJsKCNNYXJrZXJfTkVHQVRJVkVfYzgwMDAwKSIgZD0iTSAyMDIuMCA1NTQuMCBMIDI3MC4wIDU5MC4wIi8+CiAgPHBhdGggY2xhc3M9ImVkZ2UgZWRnZV9ORUdBVElWRSIgbWFya2VyLWVuZD0idXJsKCNNYXJrZXJfTkVHQVRJVkVfYzgwMDAwKSIgZD0iTSAxOTUuMCA1MjguMCBMIDI1My4wIDQ5My4wIi8+CiAgPHBhdGggY2xhc3M9ImVkZ2UgZWRnZV9QT1NJVElWRSIgbWFya2VyLWVuZD0idXJsKCNNYXJrZXJfUE9TSVRJVkVfMDBjODAwKSIgZD0iTSA0ODkuMCAyNzcuMCBMIDQwMi4wIDIzNC4wIi8+CiAgPHBhdGggY2xhc3M9ImVkZ2UgZWRnZV9ORUdBVElWRSIgbWFya2VyLWVuZD0idXJsKCNNYXJrZXJfTkVHQVRJVkVfYzgwMDAwKSIgZD0iTSA0ODQuMCAzMDguMCBMIDQ0NC4wIDI4Ny4wIi8+CiAgPHBhdGggY2xhc3M9ImVkZ2UgZWRnZV9QT1NJVElWRSIgbWFya2VyLWVuZD0idXJsKCNNYXJrZXJfUE9TSVRJVkVfMDBjODAwKSIgZD0iTSA0ODEuMCAzMjUuMCBMIDQyMC4wIDMzMy4wIi8+CiAgPHBhdGggY2xhc3M9ImVkZ2UgZWRnZV9QT1NJVElWRSIgbWFya2VyLWVuZD0idXJsKCNNYXJrZXJfUE9TSVRJVkVfMDBjODAwKSIgZD0iTSAzOTcuMCAzOTcuMCBMIDMwMS4wIDMyMy4wIi8+CiAgPHBhdGggY2xhc3M9ImVkZ2UgZWRnZV9QT1NJVElWRSIgbWFya2VyLWVuZD0idXJsKCNNYXJrZXJfUE9TSVRJVkVfMDBjODAwKSIgZD0iTSA0MjIuMCAzOTcuMCBMIDUwMS4wIDMwNC4wIi8+CiAgPHBhdGggY2xhc3M9ImVkZ2UgZWRnZV9QT1NJVElWRSIgbWFya2VyLWVuZD0idXJsKCNNYXJrZXJfUE9TSVRJVkVfMDBjODAwKSIgZD0iTSAzODguMCA0MjIuMCBMIDMwMC4wIDQ2Ni4wIi8+CiAgPHBhdGggY2xhc3M9ImVkZ2UgZWRnZV9QT1NJVElWRSIgbWFya2VyLWVuZD0idXJsKCNNYXJrZXJfUE9TSVRJVkVfMDBjODAwKSIgZD0iTSAzNDUuMCA0NjMuMCBMIDI4OS4wIDMyMy4wIi8+CiAgPHBhdGggY2xhc3M9ImVkZ2UgZWRnZV9QT1NJVElWRSIgbWFya2VyLWVuZD0idXJsKCNNYXJrZXJfUE9TSVRJVkVfMDBjODAwKSIgZD0iTSAzNzUuMCA0NzIuMCBMIDQxNC4wIDQ2Mi4wIi8+CiAgPHBhdGggY2xhc3M9ImVkZ2UgZWRnZV9QT1NJVElWRSIgbWFya2VyLWVuZD0idXJsKCNNYXJrZXJfUE9TSVRJVkVfMDBjODAwKSIgZD0iTSAzMjguMCA0NzcuMCBMIDI5OC4wIDQ3Ny4wIi8+CiAgPHBhdGggY2xhc3M9ImVkZ2UgZWRnZV9ORUdBVElWRSIgbWFya2VyLWVuZD0idXJsKCNNYXJrZXJfTkVHQVRJVkVfYzgwMDAwKSIgZD0iTSAzNDkuMCAzODUuMCBMIDI5NS4wIDMyMy4wIi8+CiAgPHBhdGggY2xhc3M9ImVkZ2UgZWRnZV9ORUdBVElWRSIgbWFya2VyLWVuZD0idXJsKCNNYXJrZXJfTkVHQVRJVkVfYzgwMDAwKSIgZD0iTSAzNDUuMCA0MTQuMCBMIDI4OS4wIDQ2MS4wIi8+CiAgPHBhdGggY2xhc3M9ImVkZ2UgZWRnZV9QT1NJVElWRSIgbWFya2VyLWVuZD0idXJsKCNNYXJrZXJfUE9TSVRJVkVfMDBjODAwKSIgZD0iTSA0MzMuMCA1NC4wIEwgNDAzLjAgMTMzLjAiLz4KICA8cGF0aCBjbGFzcz0iZWRnZSBlZGdlX05FR0FUSVZFIiBtYXJrZXItZW5kPSJ1cmwoI01hcmtlcl9ORUdBVElWRV9jODAwMDApIiBkPSJNIDIyOC4wIDI3MS4wIEwgMjY0LjAgMjkyLjAiLz4KICA8cGF0aCBjbGFzcz0iZWRnZSBlZGdlX05FR0FUSVZFIiBtYXJrZXItZW5kPSJ1cmwoI01hcmtlcl9ORUdBVElWRV9jODAwMDApIiBkPSJNIDIwNC4wIDI3MS4wIEwgMTUyLjAgMzg0LjAiLz4KICA8cGF0aCBjbGFzcz0iZWRnZSBlZGdlX05FR0FUSVZFIiBtYXJrZXItZW5kPSJ1cmwoI01hcmtlcl9ORUdBVElWRV9jODAwMDApIiBkPSJNIDIzNS4wIDI1MS4wIEwgMzUwLjAgMjI3LjAiLz4KICA8cGF0aCBjbGFzcz0iZWRnZSBlZGdlX1BPU0lUSVZFIiBtYXJrZXItZW5kPSJ1cmwoI01hcmtlcl9QT1NJVElWRV8wMGM4MDApIiBkPSJNIDM4Ny4wIDIzOC4wIEwgNDA4LjAgMjU2LjAiLz4KICA8cGF0aCBjbGFzcz0iZWRnZSBlZGdlX05FR0FUSVZFIiBtYXJrZXItZW5kPSJ1cmwoI01hcmtlcl9ORUdBVElWRV9jODAwMDApIiBkPSJNIDM1Mi4wIDIzOC4wIEwgMzQ2LjAgMjk4LjAgTCAzMzcuMCAzMTEuMCIvPgogIDxwYXRoIGNsYXNzPSJlZGdlIGVkZ2VfUE9TSVRJVkUiIG1hcmtlci1lbmQ9InVybCgjTWFya2VyX1BPU0lUSVZFXzAwYzgwMCkiIGQ9Ik0gMzgwLjAgMjA5LjAgTCAzOTQuMCAxNjUuMCIvPgogIDxwYXRoIGNsYXNzPSJlZGdlIGVkZ2VfUE9TSVRJVkUiIG1hcmtlci1lbmQ9InVybCgjTWFya2VyX1BPU0lUSVZFXzAwYzgwMCkiIGQ9Ik0gMzA3LjAgNTkxLjAgTCAzMzMuMCA1NzIuMCIvPgogIDxwYXRoIGNsYXNzPSJlZGdlIGVkZ2VfUE9TSVRJVkUiIG1hcmtlci1lbmQ9InVybCgjTWFya2VyX1BPU0lUSVZFXzAwYzgwMCkiIGQ9Ik0gMjgzLjAgNTkzLjAgTCAyODMuMCA0OTEuMCIvPgogIDxwYXRoIGNsYXNzPSJlZGdlIGVkZ2VfUE9TSVRJVkUiIG1hcmtlci1lbmQ9InVybCgjTWFya2VyX1BPU0lUSVZFXzAwYzgwMCkiIGQ9Ik0gMjkzLjAgMTkxLjAgTCAyOTMuMCAyOTQuMCIvPgogIDxwYXRoIGNsYXNzPSJlZGdlIGVkZ2VfTkVHQVRJVkUiIG1hcmtlci1lbmQ9InVybCgjTWFya2VyX05FR0FUSVZFX2M4MDAwMCkiIGQ9Ik0gMzA2LjAgMTkxLjAgTCAzMDYuMCAzMTQuMCIvPgogIDxwYXRoIGNsYXNzPSJlZGdlIGVkZ2VfUE9TSVRJVkUiIG1hcmtlci1lbmQ9InVybCgjTWFya2VyX1BPU0lUSVZFXzAwYzgwMCkiIGQ9Ik0gMzI3LjAgMTcxLjAgTCAzNzIuMCAxNTYuMCIvPgogIDxwYXRoIGNsYXNzPSJlZGdlIGVkZ2VfTkVHQVRJVkUiIG1hcmtlci1lbmQ9InVybCgjTWFya2VyX05FR0FUSVZFX2M4MDAwMCkiIGQ9Ik0gMjYyLjAgMzAxLjAgTCAxNzMuMCAzMDEuMCIvPgogIDxwYXRoIGNsYXNzPSJlZGdlIGVkZ2VfUE9TSVRJVkUiIG1hcmtlci1lbmQ9InVybCgjTWFya2VyX1BPU0lUSVZFXzAwYzgwMCkiIGQ9Ik0gMzA5LjAgMzEzLjAgTCAzNjguMCAzMzAuMCIvPgogIDxwYXRoIGNsYXNzPSJlZGdlIGVkZ2VfUE9TSVRJVkUiIG1hcmtlci1lbmQ9InVybCgjTWFya2VyX1BPU0lUSVZFXzAwYzgwMCkiIGQ9Ik0gMTcxLjAgNDE1LjAgTCAxODAuMCA0OTEuMCBMIDE4MC4wIDUyNi4wIi8+CiAgPHBhdGggY2xhc3M9ImVkZ2UgZWRnZV9QT1NJVElWRSIgbWFya2VyLWVuZD0idXJsKCNNYXJrZXJfUE9TSVRJVkVfMDBjODAwKSIgZD0iTSAxNjcuMCA0MTUuMCBMIDI1Mi4wIDQ2Mi4wIi8+CiAgPHBhdGggY2xhc3M9ImVkZ2UgZWRnZV9QT1NJVElWRSIgbWFya2VyLWVuZD0idXJsKCNNYXJrZXJfUE9TSVRJVkVfMDBjODAwKSIgZD0iTSAyNTAuMCA0MjEuMCBMIDM0OC4wIDMxNi4wIi8+CiAgPHBhdGggY2xhc3M9ImVkZ2UgZWRnZV9QT1NJVElWRSIgbWFya2VyLWVuZD0idXJsKCNNYXJrZXJfUE9TSVRJVkVfMDBjODAwKSIgZD0iTSAyMTUuMCA0NDMuMCBMIDEwOC4wIDQ4NC4wIi8+CiAgPHBhdGggY2xhc3M9ImVkZ2UgZWRnZV9QT1NJVElWRSIgbWFya2VyLWVuZD0idXJsKCNNYXJrZXJfUE9TSVRJVkVfMDBjODAwKSIgZD0iTSAyNTAuMCA0NTAuMCBMIDMzNy4wIDU0MC4wIi8+CiAgPHBhdGggY2xhc3M9ImVkZ2UgZWRnZV9ORUdBVElWRSIgbWFya2VyLWVuZD0idXJsKCNNYXJrZXJfTkVHQVRJVkVfYzgwMDAwKSIgZD0iTSAyNDkuMCA0NTAuMCBMIDI2MS4wIDQ2MS4wIi8+CiAgPHBhdGggY2xhc3M9ImVkZ2UgZWRnZV9QT1NJVElWRSIgbWFya2VyLWVuZD0idXJsKCNNYXJrZXJfUE9TSVRJVkVfMDBjODAwKSIgZD0iTSAyNTAuMCAzMjIuMCBMIDMzNC4wIDMwNC4wIi8+CiAgPHBhdGggY2xhc3M9ImVkZ2UgZWRnZV9ORUdBVElWRSIgbWFya2VyLWVuZD0idXJsKCNNYXJrZXJfTkVHQVRJVkVfYzgwMDAwKSIgZD0iTSAyNDguMCAzMjYuMCBMIDI4OC4wIDMyNi4wIi8+CiAgPHBhdGggY2xhc3M9ImVkZ2UgZWRnZV9QT1NJVElWRSIgbWFya2VyLWVuZD0idXJsKCNNYXJrZXJfUE9TSVRJVkVfMDBjODAwKSIgZD0iTSAyMTkuMCAzNDEuMCBMIDE2NC4wIDQ0Mi4wIi8+CiAgPHBhdGggY2xhc3M9ImVkZ2UgZWRnZV9QT1NJVElWRSIgbWFya2VyLWVuZD0idXJsKCNNYXJrZXJfUE9TSVRJVkVfMDBjODAwKSIgZD0iTSAyNDguMCAzMzEuMCBMIDM3MS4wIDMzMS4wIi8+CiAgPHBhdGggY2xhc3M9ImVkZ2UgZWRnZV9QT1NJVElWRSIgbWFya2VyLWVuZD0idXJsKCNNYXJrZXJfUE9TSVRJVkVfMDBjODAwKSIgZD0iTSAyODIuMCA1OTEuMCBMIDMyNC4wIDU2Ny4wIi8+CiAgPHBhdGggY2xhc3M9ImVkZ2UgZWRnZV9QT1NJVElWRSIgbWFya2VyLWVuZD0idXJsKCNNYXJrZXJfUE9TSVRJVkVfMDBjODAwKSIgZD0iTSAyNjUuMCA1OTAuMCBMIDI2NS4wIDQ5MS4wIi8+CiAgPHBhdGggY2xhc3M9ImVkZ2UgZWRnZV9ORUdBVElWRSIgbWFya2VyLWVuZD0idXJsKCNNYXJrZXJfTkVHQVRJVkVfYzgwMDAwKSIgZD0iTSAzODUuMCAyODkuMCBMIDM5NS4wIDI4My4wIi8+CiAgPHBhdGggY2xhc3M9ImVkZ2UgZWRnZV9QT1NJVElWRSIgbWFya2VyLWVuZD0idXJsKCNNYXJrZXJfUE9TSVRJVkVfMDBjODAwKSIgZD0iTSAzODUuMCAzMDMuMCBMIDQ3OS4wIDMxOC4wIi8+CiAgPHBhdGggY2xhc3M9ImVkZ2UgZWRnZV9ORUdBVElWRSIgbWFya2VyLWVuZD0idXJsKCNNYXJrZXJfTkVHQVRJVkVfYzgwMDAwKSIgZD0iTSAzNDQuMCAyODYuMCBMIDI4Ni4wIDI0Ni4wIi8+CiAgPHBhdGggY2xhc3M9ImVkZ2UgZWRnZV9QT1NJVElWRSIgbWFya2VyLWVuZD0idXJsKCNNYXJrZXJfUE9TSVRJVkVfMDBjODAwKSIgZD0iTSAzNjguMCAyODguMCBMIDM2OC4wIDIzNy4wIi8+CiAgPHBhdGggY2xhc3M9ImVkZ2UgZWRnZV9QT1NJVElWRSIgbWFya2VyLWVuZD0idXJsKCNNYXJrZXJfUE9TSVRJVkVfMDBjODAwKSIgZD0iTSAzNzIuMCAzMTUuMCBMIDM4MC4wIDMyMC4wIi8+CiAgPHBhdGggY2xhc3M9ImVkZ2UgZWRnZV9QT1NJVElWRSIgbWFya2VyLWVuZD0idXJsKCNNYXJrZXJfUE9TSVRJVkVfMDBjODAwKSIgZD0iTSAzNjMuMCAyODYuMCBMIDM5NS4wIDE2NS4wIi8+CiAgPHBhdGggY2xhc3M9ImVkZ2UgZWRnZV9QT1NJVElWRSIgbWFya2VyLWVuZD0idXJsKCNNYXJrZXJfUE9TSVRJVkVfMDBjODAwKSIgZD0iTSAyOTMuMCAyNDUuMCBMIDM3My4wIDI0NC4wIEwgMzk1LjAgMjU3LjAiLz4KICA8cGF0aCBjbGFzcz0iZWRnZSBlZGdlX05FR0FUSVZFIiBtYXJrZXItZW5kPSJ1cmwoI01hcmtlcl9ORUdBVElWRV9jODAwMDApIiBkPSJNIDI3NC4wIDI0NS4wIEwgMzA1LjAgMzExLjAiLz4KICA8cGF0aCBjbGFzcz0iZWRnZSBlZGdlX05FR0FUSVZFIiBtYXJrZXItZW5kPSJ1cmwoI01hcmtlcl9ORUdBVElWRV9jODAwMDApIiBkPSJNIDI3Ni4wIDIxNi4wIEwgMjkyLjAgMTk0LjAiLz4KICA8cGF0aCBjbGFzcz0iZWRnZSBlZGdlX1BPU0lUSVZFIiBtYXJrZXItZW5kPSJ1cmwoI01hcmtlcl9QT1NJVElWRV8wMGM4MDApIiBkPSJNIDE0Ny4wIDMwOS4wIEwgMTQ3LjAgMzg3LjAiLz4KICA8cGF0aCBjbGFzcz0iZWRnZSBlZGdlX1BPU0lUSVZFIiBtYXJrZXItZW5kPSJ1cmwoI01hcmtlcl9QT1NJVElWRV8wMGM4MDApIiBkPSJNIDE3MS4wIDI4Mi4wIEwgMjQyLjAgMjQyLjAiLz4KICA8cGF0aCBjbGFzcz0iZWRnZSBlZGdlX05FR0FUSVZFIiBtYXJrZXItZW5kPSJ1cmwoI01hcmtlcl9ORUdBVElWRV9jODAwMDApIiBkPSJNIDMzMy4wIDMxMy4wIEwgMzM0LjAgMzExLjAiLz4KICA8cGF0aCBjbGFzcz0iZWRnZSBlZGdlX05FR0FUSVZFIiBtYXJrZXItZW5kPSJ1cmwoI01hcmtlcl9ORUdBVElWRV9jODAwMDApIiBkPSJNIDMzNi4wIDMxNi4wIEwgMzk1LjAgMjgzLjAiLz4KICA8cGF0aCBjbGFzcz0iZWRnZSBlZGdlX1BPU0lUSVZFIiBtYXJrZXItZW5kPSJ1cmwoI01hcmtlcl9QT1NJVElWRV8wMGM4MDApIiBkPSJNIDMzNi4wIDMxMy4wIEwgMzQxLjAgMjUyLjAgTCAzNTAuMCAyMzkuMCIvPgogIDxwYXRoIGNsYXNzPSJlZGdlIGVkZ2VfUE9TSVRJVkUiIG1hcmtlci1lbmQ9InVybCgjTWFya2VyX1BPU0lUSVZFXzAwYzgwMCkiIGQ9Ik0gMzM0LjAgMzMxLjAgTCAzNzEuMCAzMzEuMCIvPgogIDxwYXRoIGNsYXNzPSJlZGdlIGVkZ2VfUE9TSVRJVkUiIG1hcmtlci1lbmQ9InVybCgjTWFya2VyX1BPU0lUSVZFXzAwYzgwMCkiIGQ9Ik0gNDM0LjAgNDQzLjAgTCAzNjYuMCAzMTYuMCIvPgogIDxwYXRoIGNsYXNzPSJlZGdlIGVkZ2VfUE9TSVRJVkUiIG1hcmtlci1lbmQ9InVybCgjTWFya2VyX1BPU0lUSVZFXzAwYzgwMCkiIGQ9Ik0gNDI5LjAgNDcyLjAgTCAzNjMuMCA1NDAuMCIvPgogIDxnIGlkPSJGTFQzIiBjbGFzcz0ibm9kZSI+CiAgICA8ZWxsaXBzZSBpZD0iRkxUM19zaGFwZSIgY2xhc3M9InNoYXBlIiBjeD0iMzIwLjUiIGN5PSI0MTQuNSIgcng9IjIyLjUiIHJ5PSIxMi41Ii8+CiAgICA8dGV4dCAgaWQ9IkZMVDNfdGV4dCIgeD0iMzIwIiB5PSI0MTciIHRleHQtYW5jaG9yPSJtaWRkbGUiPkZMVDM8L3RleHQ+CiAgPC9nPgogIDxnIGlkPSJBS1QiIGNsYXNzPSJub2RlIj4KICAgIDxlbGxpcHNlIGlkPSJBS1Rfc2hhcGUiIGNsYXNzPSJzaGFwZSIgY3g9IjI4NC41IiBjeT0iMzA3LjUiIHJ4PSIyMi41IiByeT0iMTIuNSIvPgogICAgPHRleHQgIGlkPSJBS1RfdGV4dCIgeD0iMjg0IiB5PSIzMTAiIHRleHQtYW5jaG9yPSJtaWRkbGUiPkFLVDwvdGV4dD4KICA8L2c+CiAgPGcgaWQ9IkVSSzFfMiIgY2xhc3M9Im5vZGUiPgogICAgPGVsbGlwc2UgaWQ9IkVSSzFfMl9zaGFwZSIgY2xhc3M9InNoYXBlIiBjeD0iMzYwLjUiIGN5PSIzMDAuNSIgcng9IjIyLjUiIHJ5PSIxMi41Ii8+CiAgICA8dGV4dCAgaWQ9IkVSSzFfMl90ZXh0IiB4PSIzNjAiIHk9IjMwMyIgdGV4dC1hbmNob3I9Im1pZGRsZSI+RVJLMV8yPC90ZXh0PgogIDwvZz4KICA8ZyBpZD0iR1NLM0IiIGNsYXNzPSJub2RlIj4KICAgIDxlbGxpcHNlIGlkPSJHU0szQl9zaGFwZSIgY2xhc3M9InNoYXBlIiBjeD0iNDIxLjUiIGN5PSIyNzIuNSIgcng9IjIyLjUiIHJ5PSIxMi41Ii8+CiAgICA8dGV4dCAgaWQ9IkdTSzNCX3RleHQiIHg9IjQyMSIgeT0iMjc1IiB0ZXh0LWFuY2hvcj0ibWlkZGxlIj5HU0szQjwvdGV4dD4KICA8L2c+CiAgPGcgaWQ9IktSQVMiIGNsYXNzPSJub2RlIj4KICAgIDxlbGxpcHNlIGlkPSJLUkFTX3NoYXBlIiBjbGFzcz0ic2hhcGUiIGN4PSI4Mi41IiBjeT0iNDkzLjUiIHJ4PSIyMi41IiByeT0iMTIuNSIvPgogICAgPHRleHQgIGlkPSJLUkFTX3RleHQiIHg9IjgyIiB5PSI0OTYiIHRleHQtYW5jaG9yPSJtaWRkbGUiPktSQVM8L3RleHQ+CiAgPC9nPgogIDxnIGlkPSJNQVBLMTQiIGNsYXNzPSJub2RlIj4KICAgIDxlbGxpcHNlIGlkPSJNQVBLMTRfc2hhcGUiIGNsYXNzPSJzaGFwZSIgY3g9IjMxMS41IiBjeT0iMzI3LjUiIHJ4PSIyMi41IiByeT0iMTIuNSIvPgogICAgPHRleHQgIGlkPSJNQVBLMTRfdGV4dCIgeD0iMzExIiB5PSIzMzAiIHRleHQtYW5jaG9yPSJtaWRkbGUiPk1BUEsxNDwvdGV4dD4KICA8L2c+CiAgPGcgaWQ9Ik1FSzFfMiIgY2xhc3M9Im5vZGUiPgogICAgPGVsbGlwc2UgaWQ9Ik1FSzFfMl9zaGFwZSIgY2xhc3M9InNoYXBlIiBjeD0iMTU4LjUiIGN5PSI0NTguNSIgcng9IjIyLjUiIHJ5PSIxMi41Ii8+CiAgICA8dGV4dCAgaWQ9Ik1FSzFfMl90ZXh0IiB4PSIxNTgiIHk9IjQ2MSIgdGV4dC1hbmNob3I9Im1pZGRsZSI+TUVLMV8yPC90ZXh0PgogIDwvZz4KICA8ZyBpZD0iTVRPUiIgY2xhc3M9Im5vZGUiPgogICAgPGVsbGlwc2UgaWQ9Ik1UT1Jfc2hhcGUiIGNsYXNzPSJzaGFwZSIgY3g9IjMwMi41IiBjeT0iMTc4LjUiIHJ4PSIyMi41IiByeT0iMTIuNSIvPgogICAgPHRleHQgIGlkPSJNVE9SX3RleHQiIHg9IjMwMiIgeT0iMTgxIiB0ZXh0LWFuY2hvcj0ibWlkZGxlIj5NVE9SPC90ZXh0PgogIDwvZz4KICA8ZyBpZD0iUERQSzEiIGNsYXNzPSJub2RlIj4KICAgIDxlbGxpcHNlIGlkPSJQRFBLMV9zaGFwZSIgY2xhc3M9InNoYXBlIiBjeD0iMTc0LjUiIGN5PSIxNzIuNSIgcng9IjIyLjUiIHJ5PSIxMi41Ii8+CiAgICA8dGV4dCAgaWQ9IlBEUEsxX3RleHQiIHg9IjE3NCIgeT0iMTc1IiB0ZXh0LWFuY2hvcj0ibWlkZGxlIj5QRFBLMTwvdGV4dD4KICA8L2c+CiAgPGcgaWQ9IlBUUE4xMSIgY2xhc3M9Im5vZGUiPgogICAgPGVsbGlwc2UgaWQ9IlBUUE4xMV9zaGFwZSIgY2xhc3M9InNoYXBlIiBjeD0iMjM5LjUiIGN5PSI0MzUuNSIgcng9IjIyLjUiIHJ5PSIxMi41Ii8+CiAgICA8dGV4dCAgaWQ9IlBUUE4xMV90ZXh0IiB4PSIyMzkiIHk9IjQzOCIgdGV4dC1hbmNob3I9Im1pZGRsZSI+UFRQTjExPC90ZXh0PgogIDwvZz4KICA8ZyBpZD0iUlBTNktBMSIgY2xhc3M9Im5vZGUiPgogICAgPGVsbGlwc2UgaWQ9IlJQUzZLQTFfc2hhcGUiIGNsYXNzPSJzaGFwZSIgY3g9IjUwNS41IiBjeT0iMzIyLjUiIHJ4PSIyMi41IiByeT0iMTIuNSIvPgogICAgPHRleHQgIGlkPSJSUFM2S0ExX3RleHQiIHg9IjUwNSIgeT0iMzI1IiB0ZXh0LWFuY2hvcj0ibWlkZGxlIj5SUFM2S0ExPC90ZXh0PgogIDwvZz4KICA8ZyBpZD0iUlBTNktCMSIgY2xhc3M9Im5vZGUiPgogICAgPGVsbGlwc2UgaWQ9IlJQUzZLQjFfc2hhcGUiIGNsYXNzPSJzaGFwZSIgY3g9IjIyNS41IiBjeT0iMzI2LjUiIHJ4PSIyMi41IiByeT0iMTIuNSIvPgogICAgPHRleHQgIGlkPSJSUFM2S0IxX3RleHQiIHg9IjIyNSIgeT0iMzI5IiB0ZXh0LWFuY2hvcj0ibWlkZGxlIj5SUFM2S0IxPC90ZXh0PgogIDwvZz4KICA8ZyBpZD0iVE5GIiBjbGFzcz0ibm9kZSI+CiAgICA8ZWxsaXBzZSBpZD0iVE5GX3NoYXBlIiBjbGFzcz0ic2hhcGUiIGN4PSI0MTIuNSIgY3k9IjQxMS41IiByeD0iMjIuNSIgcnk9IjEyLjUiLz4KICAgIDx0ZXh0ICBpZD0iVE5GX3RleHQiIHg9IjQxMiIgeT0iNDE0IiB0ZXh0LWFuY2hvcj0ibWlkZGxlIj5UTkY8L3RleHQ+CiAgPC9nPgogIDxnIGlkPSJJR0YxUiIgY2xhc3M9Im5vZGUiPgogICAgPGVsbGlwc2UgaWQ9IklHRjFSX3NoYXBlIiBjbGFzcz0ic2hhcGUiIGN4PSIzNTAuNSIgY3k9IjQ3Ny41IiByeD0iMjIuNSIgcnk9IjEyLjUiLz4KICAgIDx0ZXh0ICBpZD0iSUdGMVJfdGV4dCIgeD0iMzUwIiB5PSI0ODAiIHRleHQtYW5jaG9yPSJtaWRkbGUiPklHRjFSPC90ZXh0PgogIDwvZz4KICA8ZyBpZD0iSVJTMSIgY2xhc3M9Im5vZGUiPgogICAgPGVsbGlwc2UgaWQ9IklSUzFfc2hhcGUiIGNsYXNzPSJzaGFwZSIgY3g9IjI1Ny41IiBjeT0iNjAyLjUiIHJ4PSIyMi41IiByeT0iMTIuNSIvPgogICAgPHRleHQgIGlkPSJJUlMxX3RleHQiIHg9IjI1NyIgeT0iNjA1IiB0ZXh0LWFuY2hvcj0ibWlkZGxlIj5JUlMxPC90ZXh0PgogIDwvZz4KICA8ZyBpZD0iR1NLM0EiIGNsYXNzPSJub2RlIj4KICAgIDxlbGxpcHNlIGlkPSJHU0szQV9zaGFwZSIgY2xhc3M9InNoYXBlIiBjeD0iMTQ5LjUiIGN5PSIyOTYuNSIgcng9IjIyLjUiIHJ5PSIxMi41Ii8+CiAgICA8dGV4dCAgaWQ9IkdTSzNBX3RleHQiIHg9IjE0OSIgeT0iMjk5IiB0ZXh0LWFuY2hvcj0ibWlkZGxlIj5HU0szQTwvdGV4dD4KICA8L2c+CiAgPGcgaWQ9IklOU1IiIGNsYXNzPSJub2RlIj4KICAgIDxlbGxpcHNlIGlkPSJJTlNSX3NoYXBlIiBjbGFzcz0ic2hhcGUiIGN4PSIxNDYuNSIgY3k9IjQwMC41IiByeD0iMjIuNSIgcnk9IjEyLjUiLz4KICAgIDx0ZXh0ICBpZD0iSU5TUl90ZXh0IiB4PSIxNDYiIHk9IjQwMyIgdGV4dC1hbmNob3I9Im1pZGRsZSI+SU5TUjwvdGV4dD4KICA8L2c+CiAgPGcgaWQ9IlNIQzEiIGNsYXNzPSJub2RlIj4KICAgIDxlbGxpcHNlIGlkPSJTSEMxX3NoYXBlIiBjbGFzcz0ic2hhcGUiIGN4PSI0NDAuNSIgY3k9IjQ1Ny41IiByeD0iMjIuNSIgcnk9IjEyLjUiLz4KICAgIDx0ZXh0ICBpZD0iU0hDMV90ZXh0IiB4PSI0NDAiIHk9IjQ2MCIgdGV4dC1hbmNob3I9Im1pZGRsZSI+U0hDMTwvdGV4dD4KICA8L2c+CiAgPGcgaWQ9IkdSQjIiIGNsYXNzPSJub2RlIj4KICAgIDxlbGxpcHNlIGlkPSJHUkIyX3NoYXBlIiBjbGFzcz0ic2hhcGUiIGN4PSIzNTAuNSIgY3k9IjU1Ni41IiByeD0iMjIuNSIgcnk9IjEyLjUiLz4KICAgIDx0ZXh0ICBpZD0iR1JCMl90ZXh0IiB4PSIzNTAiIHk9IjU1OSIgdGV4dC1hbmNob3I9Im1pZGRsZSI+R1JCMjwvdGV4dD4KICA8L2c+CiAgPGcgaWQ9IktJVCIgY2xhc3M9Im5vZGUiPgogICAgPGVsbGlwc2UgaWQ9IktJVF9zaGFwZSIgY2xhc3M9InNoYXBlIiBjeD0iMjkzLjUiIGN5PSI2MDUuNSIgcng9IjIyLjUiIHJ5PSIxMi41Ii8+CiAgICA8dGV4dCAgaWQ9IktJVF90ZXh0IiB4PSIyOTMiIHk9IjYwOCIgdGV4dC1hbmNob3I9Im1pZGRsZSI+S0lUPC90ZXh0PgogIDwvZz4KICA8ZyBpZD0iUFRQTjEiIGNsYXNzPSJub2RlIj4KICAgIDxlbGxpcHNlIGlkPSJQVFBOMV9zaGFwZSIgY2xhc3M9InNoYXBlIiBjeD0iMjEwLjUiIGN5PSIyNTYuNSIgcng9IjIyLjUiIHJ5PSIxMi41Ii8+CiAgICA8dGV4dCAgaWQ9IlBUUE4xX3RleHQiIHg9IjIxMCIgeT0iMjU5IiB0ZXh0LWFuY2hvcj0ibWlkZGxlIj5QVFBOMTwvdGV4dD4KICA8L2c+CiAgPGcgaWQ9IkNCTCIgY2xhc3M9Im5vZGUiPgogICAgPGVsbGlwc2UgaWQ9IkNCTF9zaGFwZSIgY2xhc3M9InNoYXBlIiBjeD0iMTc3LjUiIGN5PSI1NDIuNSIgcng9IjIyLjUiIHJ5PSIxMi41Ii8+CiAgICA8dGV4dCAgaWQ9IkNCTF90ZXh0IiB4PSIxNzciIHk9IjU0NSIgdGV4dC1hbmNob3I9Im1pZGRsZSI+Q0JMPC90ZXh0PgogIDwvZz4KICA8ZyBpZD0iUFRFTiIgY2xhc3M9Im5vZGUiPgogICAgPGVsbGlwc2UgaWQ9IlBURU5fc2hhcGUiIGNsYXNzPSJzaGFwZSIgY3g9IjM1OS41IiBjeT0iMzk5LjUiIHJ4PSIyMi41IiByeT0iMTIuNSIvPgogICAgPHRleHQgIGlkPSJQVEVOX3RleHQiIHg9IjM1OSIgeT0iNDAyIiB0ZXh0LWFuY2hvcj0ibWlkZGxlIj5QVEVOPC90ZXh0PgogIDwvZz4KICA8ZyBpZD0iVFNDMiIgY2xhc3M9Im5vZGUiPgogICAgPGVsbGlwc2UgaWQ9IlRTQzJfc2hhcGUiIGNsYXNzPSJzaGFwZSIgY3g9IjI2OC41IiBjeT0iMjMwLjUiIHJ4PSIyMi41IiByeT0iMTIuNSIvPgogICAgPHRleHQgIGlkPSJUU0MyX3RleHQiIHg9IjI2OCIgeT0iMjMzIiB0ZXh0LWFuY2hvcj0ibWlkZGxlIj5UU0MyPC90ZXh0PgogIDwvZz4KICA8ZyBpZD0iSk5LIiBjbGFzcz0ibm9kZSI+CiAgICA8ZWxsaXBzZSBpZD0iSk5LX3NoYXBlIiBjbGFzcz0ic2hhcGUiIGN4PSI1MTMuNSIgY3k9IjI4OC41IiByeD0iMjIuNSIgcnk9IjEyLjUiLz4KICAgIDx0ZXh0ICBpZD0iSk5LX3RleHQiIHg9IjUxMyIgeT0iMjkxIiB0ZXh0LWFuY2hvcj0ibWlkZGxlIj5KTks8L3RleHQ+CiAgPC9nPgogIDxnIGlkPSJQSTNLIiBjbGFzcz0ibm9kZSI+CiAgICA8ZWxsaXBzZSBpZD0iUEkzS19zaGFwZSIgY2xhc3M9InNoYXBlIiBjeD0iMjc0LjUiIGN5PSI0NzcuNSIgcng9IjIyLjUiIHJ5PSIxMi41Ii8+CiAgICA8dGV4dCAgaWQ9IlBJM0tfdGV4dCIgeD0iMjc0IiB5PSI0ODAiIHRleHQtYW5jaG9yPSJtaWRkbGUiPlBJM0s8L3RleHQ+CiAgPC9nPgogIDxnIGlkPSJTVEFUMyIgY2xhc3M9Im5vZGUiPgogICAgPGVsbGlwc2UgaWQ9IlNUQVQzX3NoYXBlIiBjbGFzcz0ic2hhcGUiIGN4PSIzNzYuNSIgY3k9IjIyMy41IiByeD0iMjIuNSIgcnk9IjEyLjUiLz4KICAgIDx0ZXh0ICBpZD0iU1RBVDNfdGV4dCIgeD0iMzc2IiB5PSIyMjYiIHRleHQtYW5jaG9yPSJtaWRkbGUiPlNUQVQzPC90ZXh0PgogIDwvZz4KICA8ZyBpZD0iUlBTNiIgY2xhc3M9Im5vZGUiPgogICAgPGVsbGlwc2UgaWQ9IlJQUzZfc2hhcGUiIGNsYXNzPSJzaGFwZSIgY3g9IjQzOC41IiBjeT0iMzkuNSIgcng9IjIyLjUiIHJ5PSIxMi41Ii8+CiAgICA8dGV4dCAgaWQ9IlJQUzZfdGV4dCIgeD0iNDM4IiB5PSI0MiIgdGV4dC1hbmNob3I9Im1pZGRsZSI+UlBTNjwvdGV4dD4KICA8L2c+CiAgPGcgaWQ9IkNSRUIxIiBjbGFzcz0ibm9kZSI+CiAgICA8ZWxsaXBzZSBpZD0iQ1JFQjFfc2hhcGUiIGNsYXNzPSJzaGFwZSIgY3g9IjM5NC41IiBjeT0iMzM2LjUiIHJ4PSIyMi41IiByeT0iMTIuNSIvPgogICAgPHRleHQgIGlkPSJDUkVCMV90ZXh0IiB4PSIzOTQiIHk9IjMzOSIgdGV4dC1hbmNob3I9Im1pZGRsZSI+Q1JFQjE8L3RleHQ+CiAgPC9nPgogIDxnIGlkPSJTVEFUNUEiIGNsYXNzPSJub2RlIj4KICAgIDxlbGxpcHNlIGlkPSJTVEFUNUFfc2hhcGUiIGNsYXNzPSJzaGFwZSIgY3g9IjM5OC41IiBjeT0iMTQ5LjUiIHJ4PSIyMi41IiByeT0iMTIuNSIvPgogICAgPHRleHQgIGlkPSJTVEFUNUFfdGV4dCIgeD0iMzk4IiB5PSIxNTIiIHRleHQtYW5jaG9yPSJtaWRkbGUiPlNUQVQ1QTwvdGV4dD4KICA8L2c+Cjwvc3ZnPgo=\">"
      ],
      "text/plain": [
       "<IPython.core.display.HTML object>"
      ]
     },
     "execution_count": 3,
     "metadata": {},
     "output_type": "execute_result"
    }
   ],
   "source": [
    "TKD_lqm = biolqm.load(\"Latini2023_TKD.sbml\")\n",
    "TKD_lrg = biolqm.to_ginsim(TKD_lqm)\n",
    "ginsim.show(TKD_lrg)"
   ]
  },
  {
   "cell_type": "markdown",
   "metadata": {},
   "source": [
    "The visualization looks different from Figure 3B and 3C in the paper. It is because figures in the paper only shows the edges (and nodes) with highest edge confidence (frequency in 100 models > 0.4). The codes do generate exact the same models as the paper used in the following assessment steps."
   ]
  },
  {
   "cell_type": "markdown",
   "metadata": {},
   "source": [
    "# Assessment of the models\n",
    "As described in the paper:  \n",
    ">At this point, we aimed to assess whether the newly generated FLT3 ITD-JMD and FLT3 ITD-TKD Boolean models could recapitulate in silico the TKI-induced modulation of apoptosis and proliferation. \n",
    ">To this aim, we defined a strategy that is composed of three steps:\n",
    ">1. We set up two initial conditions of the models aiming at reproducing the biological context of our cells before and after the FLT3 inhibitor treatment.\n",
    ">2. We computed the steady state of each Boolean model to derive the states of the model’s proteins associated to each initial condition.\n",
    ">3. We unbiasedly associated the final conditions to phenotypic states of the cells.\n",
    "\n",
    "## Simulations before and after the FLT3 inhibitor treatment\n",
    "\n",
    ">Briefly, we defined “Untreated” the condition that reproduce a malignant state where cells proliferate and escape apoptosis. From the model perspective this condition is represented by an active state of the FLT3, IGF1R, and TNFR nodes.  \n",
    ">Next, we defined “FLT3i” the condition that reproduces malignant cells treated with the FLT3 inhibitor (Midostaurin). From the model perspective this condition is represented by an active state of the IGF1R, and TNFR nodes and an inactive state of FLT3.\n",
    "\n",
    "As shown in Figure S4:  \n",
    "\n",
    "![Figure S4](FigureS4.png)  \n",
    "Steady states of FLT3 ITD-JMD (upper panel) and TKD (lower panel) Boolean models in FLT3 inhibition and control conditions. Proteins are red (active) or blue (inactive). The regulators of Proliferation and Apoptosis are reported in green and orange, respectively.\n",
    "\n",
    "We are going to reproduce these results."
   ]
  },
  {
   "cell_type": "markdown",
   "metadata": {},
   "source": [
    "### Approach\n",
    "In the original paper, R package CellNOptR is used to assemble the model and to compute its steady states. Here we adopt a different approach using Python library `bioLQM`. The `biolqm.fixpoints` function could be used to compute the complete list of logical stable states (or fixpoints) of the model.\n",
    "\n",
    "### Experiment Set-up\n",
    "According to the paper, we are going to set up the simulations on each conditions: \n",
    "- Untreated condition, in which all the receptors included in the model (FLT3, IGF1R, and TNFR) are set to ON.\n",
    "- FLT3 inhibition condition (FLT3i), in which FLT3 was set to OFF."
   ]
  },
  {
   "cell_type": "code",
   "execution_count": 4,
   "metadata": {},
   "outputs": [],
   "source": [
    "# set the fix value for the simulations\n",
    "JMD_untreated = biolqm.perturbation(JMD_lqm, \"FLT3%1 IGF1R%1 TNF%1\")\n",
    "JMD_flt3i = biolqm.perturbation(JMD_lqm, \"FLT3%0 IGF1R%1 TNF%1\")\n",
    "TKD_untreated = biolqm.perturbation(TKD_lqm, \"FLT3%1 IGF1R%1 TNF%1\")\n",
    "TKD_flt3i = biolqm.perturbation(TKD_lqm, \"FLT3%0 IGF1R%1 TNF%1\")"
   ]
  },
  {
   "cell_type": "markdown",
   "metadata": {},
   "source": [
    "### Stable states calculation"
   ]
  },
  {
   "cell_type": "code",
   "execution_count": 5,
   "metadata": {},
   "outputs": [
    {
     "data": {
      "image/png": "[encoded data removed]",
      "text/plain": [
       "<Figure size 1000x100 with 2 Axes>"
      ]
     },
     "metadata": {},
     "output_type": "display_data"
    }
   ],
   "source": [
    "## For the JMD model\n",
    "df_simResT0 = pd.DataFrame(biolqm.fixpoints(JMD_untreated))\n",
    "df_simResT1 = pd.DataFrame(biolqm.fixpoints(JMD_flt3i))\n",
    "\n",
    "# Create a combined DataFrame for the heatmap\n",
    "combined_df_JMD = pd.concat([df_simResT0, df_simResT1],ignore_index=True)\n",
    "\n",
    "# Create labels\n",
    "num_rows_t0 = len(df_simResT0)\n",
    "num_rows_t1 = len(df_simResT1)\n",
    "labels_t0 = [f'untreated_{i+1}' for i in range(num_rows_t0)]\n",
    "labels_t1 = [f'FLT3i_{i+1}' for i in range(num_rows_t1)]\n",
    "combined_labels = labels_t0 + labels_t1\n",
    "\n",
    "# Define color palette\n",
    "myColor = sns.color_palette(\"coolwarm\", as_cmap=True)\n",
    "\n",
    "# Plotting the heatmap\n",
    "plt.figure(figsize=(10, 1))\n",
    "ax = sns.heatmap(combined_df_JMD, cmap=myColor, annot=False, cbar_kws={'ticks': [0, 0.5, 1]}, linewidths=.5)\n",
    "ax.set_yticklabels(combined_labels, rotation=0)\n",
    "plt.title('Simulation Results of FLT3-ITD-JMD')\n",
    "plt.show()"
   ]
  },
  {
   "cell_type": "markdown",
   "metadata": {},
   "source": [
    "Compared with the original resuts:  \n",
    "<img src=\"sim_JMD.png\" alt=\"drawing\" width=\"800\"/>    \n",
    "**Conclusion: for the JMD model, We have derived the same simulaiton results, except an addtional stable state of the FLT3i simulation.**"
   ]
  },
  {
   "cell_type": "code",
   "execution_count": 6,
   "metadata": {},
   "outputs": [
    {
     "data": {
      "image/png": "[encoded data removed]",
      "text/plain": [
       "<Figure size 1000x100 with 2 Axes>"
      ]
     },
     "metadata": {},
     "output_type": "display_data"
    }
   ],
   "source": [
    "## For the TKD model\n",
    "df_simResT0 = pd.DataFrame(biolqm.fixpoints(TKD_untreated))\n",
    "df_simResT1 = pd.DataFrame(biolqm.fixpoints(TKD_flt3i))\n",
    "\n",
    "# Create a combined DataFrame for the heatmap\n",
    "combined_df_TKD = pd.concat([df_simResT0, df_simResT1],ignore_index=True)\n",
    "\n",
    "# Create labels\n",
    "num_rows_t0 = len(df_simResT0)\n",
    "num_rows_t1 = len(df_simResT1)\n",
    "labels_t0 = [f'untreated_{i+1}' for i in range(num_rows_t0)]\n",
    "labels_t1 = [f'FLT3i_{i+1}' for i in range(num_rows_t1)]\n",
    "combined_labels = labels_t0 + labels_t1\n",
    "\n",
    "# Define color palette\n",
    "myColor = sns.color_palette(\"coolwarm\", as_cmap=True)\n",
    "\n",
    "# Plotting the heatmap\n",
    "plt.figure(figsize=(10, 1))\n",
    "ax = sns.heatmap(combined_df_TKD, cmap=myColor, annot=False, cbar_kws={'ticks': [0, 0.5, 1]}, linewidths=.5)\n",
    "ax.set_yticklabels(combined_labels, rotation=0)\n",
    "plt.title('Simulation Results of FLT3-ITD-TKD')\n",
    "plt.show()"
   ]
  },
  {
   "cell_type": "markdown",
   "metadata": {},
   "source": [
    "Compared with the original resuts:  \n",
    "<img src=\"sim_TKD.png\" alt=\"drawing\" width=\"800\"/>    \n",
    "**Conclusion: for the TKD model, We have derived exactly the same simulaiton results.**"
   ]
  },
  {
   "cell_type": "markdown",
   "metadata": {},
   "source": [
    "## Apoptosis and proliferation activity inference"
   ]
  },
  {
   "cell_type": "markdown",
   "metadata": {},
   "source": [
    "As described in the supplementary methods:\n",
    "> To functionally interpret the results of the simulations, we derived the levels of ‘apoptosis inhibition’ and ‘proliferation activation’ in each condition (Figure 3E). To do that:\n",
    "> 1. We annotated all the proteins in the network as activators or inhibitors of ‘apoptosis’ and ‘proliferation’ phenotypes using our recently published research ProxPath (Iannuccelli et al., 2022).\n",
    "> 2. For the inference of phenotypes, we considered only proteins that were (i) regulators of a phenotype and (ii) endpoint proteins in high-confidence signaling axes (edge frequency 0.4, Figure 3B e 3C). This choice is driven by the need to avoid redundancy and consider the final nodes of the model which are the real effector proteins according to our mutations-specific FLT3 Boolean models.\n",
    "> 3. Then, we integrated the signal of the phenotype regulators proteins (Figure 3E heatmaps) to compute the level of ‘apoptosis inhibition’ and ‘proliferation activation’ in each cell line (Figure 3E barplot). Integration, in this context, means computing the sum of the 'scores' of proteins that influence each phenotype, with an underlying assumption of equal importance for both inhibitors and activators (OR logic).  \n",
    "\n",
    ">As a result of this step, we obtained a comprehensive model encompassing proteins and phenotypes (apoptosis and proliferation) that can possess multiple values, effectively creating a multi-valued model. This enhancement enables a finer comparison between different cell lines."
   ]
  },
  {
   "cell_type": "code",
   "execution_count": 7,
   "metadata": {},
   "outputs": [
    {
     "data": {
      "text/html": [
       "<div>\n",
       "<style scoped>\n",
       "    .dataframe tbody tr th:only-of-type {\n",
       "        vertical-align: middle;\n",
       "    }\n",
       "\n",
       "    .dataframe tbody tr th {\n",
       "        vertical-align: top;\n",
       "    }\n",
       "\n",
       "    .dataframe thead th {\n",
       "        text-align: right;\n",
       "    }\n",
       "</style>\n",
       "<table border=\"1\" class=\"dataframe\">\n",
       "  <thead>\n",
       "    <tr style=\"text-align: right;\">\n",
       "      <th></th>\n",
       "      <th>node</th>\n",
       "      <th>phenotype</th>\n",
       "      <th>apoptosis</th>\n",
       "    </tr>\n",
       "  </thead>\n",
       "  <tbody>\n",
       "    <tr>\n",
       "      <th>0</th>\n",
       "      <td>STAT5A</td>\n",
       "      <td>APOPTOSIS</td>\n",
       "      <td>-1</td>\n",
       "    </tr>\n",
       "    <tr>\n",
       "      <th>1</th>\n",
       "      <td>MTOR</td>\n",
       "      <td>APOPTOSIS</td>\n",
       "      <td>-1</td>\n",
       "    </tr>\n",
       "    <tr>\n",
       "      <th>2</th>\n",
       "      <td>JNK</td>\n",
       "      <td>APOPTOSIS</td>\n",
       "      <td>1</td>\n",
       "    </tr>\n",
       "    <tr>\n",
       "      <th>3</th>\n",
       "      <td>AKT</td>\n",
       "      <td>APOPTOSIS</td>\n",
       "      <td>-1</td>\n",
       "    </tr>\n",
       "    <tr>\n",
       "      <th>4</th>\n",
       "      <td>AKT</td>\n",
       "      <td>APOPTOSIS</td>\n",
       "      <td>-1</td>\n",
       "    </tr>\n",
       "  </tbody>\n",
       "</table>\n",
       "</div>"
      ],
      "text/plain": [
       "     node  phenotype  apoptosis\n",
       "0  STAT5A  APOPTOSIS         -1\n",
       "1    MTOR  APOPTOSIS         -1\n",
       "2     JNK  APOPTOSIS          1\n",
       "3     AKT  APOPTOSIS         -1\n",
       "4     AKT  APOPTOSIS         -1"
      ]
     },
     "execution_count": 7,
     "metadata": {},
     "output_type": "execute_result"
    }
   ],
   "source": [
    "# Read the apoptosis and proliferation data generated by ProxPath\n",
    "apoptosis_df = pd.read_csv('paths_to_apoptosis_proliferation.txt', sep='\\t')\n",
    "apoptosis_df['node'] = apoptosis_df['QueryNode'].str.replace('/', '_')\n",
    "apoptosis_df = apoptosis_df[['node', 'EndNode', 'Final_Effect']].rename(columns={'EndNode': 'phenotype', 'Final_Effect': 'apoptosis'})\n",
    "apoptosis_df.head()"
   ]
  },
  {
   "cell_type": "code",
   "execution_count": 8,
   "metadata": {},
   "outputs": [
    {
     "data": {
      "image/png": "[encoded data removed]",
      "text/plain": [
       "<Figure size 400x200 with 1 Axes>"
      ]
     },
     "metadata": {},
     "output_type": "display_data"
    },
    {
     "data": {
      "image/png": "[encoded data removed]",
      "text/plain": [
       "<Figure size 400x200 with 1 Axes>"
      ]
     },
     "metadata": {},
     "output_type": "display_data"
    }
   ],
   "source": [
    "# Transpose and select only the first two columns (the identical stable states)\n",
    "combined_df_JMD_tidy = combined_df_JMD.head(2).T.reset_index()\n",
    "combined_df_JMD_tidy.columns = ['node', 'tumor', 'FLT3i']\n",
    "combined_df_TKD_tidy = combined_df_TKD.head(2).T.reset_index()\n",
    "combined_df_TKD_tidy.columns = ['node', 'tumor', 'FLT3i']\n",
    "\n",
    "# Ensure matching data types\n",
    "combined_df_JMD_tidy['node'] = combined_df_JMD_tidy['node'].astype(str)\n",
    "combined_df_TKD_tidy['node'] = combined_df_TKD_tidy['node'].astype(str)\n",
    "apoptosis_df['node'] = apoptosis_df['node'].astype(str)\n",
    "\n",
    "# Specify edges/nodes with high confidence (>.4) for each cell line and phenotype\n",
    "allowed_nodes_apo_JMD = ['MTOR', 'STAT5A']\n",
    "allowed_nodes_apo_TKD = ['STAT5A', 'AKT']\n",
    "allowed_nodes_pro_JMD = ['PI3K', 'MAPK14', 'STAT5A', 'MTOR']\n",
    "allowed_nodes_pro_TKD = ['PI3K', 'KRAS', 'CREB1', 'STAT5A']\n",
    "\n",
    "# Compute States for Apoptosis and Proliferation\n",
    "phens = ['PROLIFERATION', 'APOPTOSIS']\n",
    "results = {}\n",
    "\n",
    "for phen in phens:\n",
    "    apoptosis_annotation = apoptosis_df[apoptosis_df['phenotype'] == phen][['node', 'apoptosis']].drop_duplicates()\n",
    "\n",
    "    annotated_JMD = combined_df_JMD_tidy.merge(apoptosis_annotation, on='node', how='inner')\n",
    "    annotated_TKD = combined_df_TKD_tidy.merge(apoptosis_annotation, on='node', how='inner')\n",
    "\n",
    "    # Further filtering based on nodes as in their codes:\n",
    "    \n",
    "  # Select only the regulators in each cell line that are endpoint proteins\n",
    "  # in high-confidence signaling axes (edge frequency 0.4). As such, \n",
    "  # if two regulators of the same phenotype were linked in the same axis, \n",
    "  # we considered only the one at the end of the cascade.\n",
    "    \n",
    "    if phen == 'APOPTOSIS':\n",
    "        annotated_JMD = annotated_JMD[annotated_JMD['node'].isin(allowed_nodes_apo_JMD)]\n",
    "        annotated_TKD = annotated_TKD[annotated_TKD['node'].isin(allowed_nodes_apo_TKD)]\n",
    "    else:  # PROLIFERATION\n",
    "        annotated_JMD = annotated_JMD[annotated_JMD['node'].isin(allowed_nodes_pro_JMD)]\n",
    "        annotated_TKD = annotated_TKD[annotated_TKD['node'].isin(allowed_nodes_pro_TKD)]\n",
    "\n",
    "    # Compute the states\n",
    "    # Multiply and sum as per the R code\n",
    "    for df, cellline in zip([annotated_JMD, annotated_TKD], ['JMD', 'TKD']):\n",
    "        df['tumor_apo'] = df['tumor'] * df['apoptosis']\n",
    "        df['FLT3i_apo'] = df['FLT3i'] * df['apoptosis']\n",
    "        tumor_sum = df['tumor_apo'].sum()\n",
    "        FLT3i_sum = df['FLT3i_apo'].sum()\n",
    "        results[f'{cellline}_{phen}'] = {'tumor': tumor_sum, 'FLT3i': FLT3i_sum}\n",
    "\n",
    "# Create Bar Plots\n",
    "plot_data = []\n",
    "for key, value in results.items():\n",
    "    cellline, phen = key.split('_')\n",
    "    for treatment, apo_value in value.items():\n",
    "        if phen == 'APOPTOSIS':\n",
    "            apo_value *= -1\n",
    "        plot_data.append({'cellline': cellline, 'time': treatment, 'apoptosis': apo_value, 'phen': phen})\n",
    "\n",
    "plot_df = pd.DataFrame(plot_data)\n",
    "\n",
    "# Plotting\n",
    "for phen in phens:\n",
    "    plt.figure(figsize=(4, 2))\n",
    "    df_plot = plot_df[plot_df['phen'] == phen]\n",
    "    ax = sns.barplot(x='time', y='apoptosis', hue='cellline', data=df_plot)\n",
    "    ax.set_ylabel(phen)\n",
    "    plt.title(phen)\n",
    "    plt.show()"
   ]
  },
  {
   "cell_type": "markdown",
   "metadata": {},
   "source": [
    "Compared with the results in Figure 3E in the paper:    \n",
    "![Figure 3Ebar](Figure3Ebar.png)   \n",
    "**The results are identical.**"
   ]
  },
  {
   "cell_type": "code",
   "execution_count": 9,
   "metadata": {},
   "outputs": [
    {
     "data": {
      "image/png": "[encoded data removed]",
      "text/plain": [
       "<Figure size 500x400 with 2 Axes>"
      ]
     },
     "metadata": {},
     "output_type": "display_data"
    }
   ],
   "source": [
    "# Define the nodes relevant to each phenotype\n",
    "apoptosis_nodes = ['AKT', 'MTOR', 'STAT5A']\n",
    "proliferation_nodes = ['KRAS', 'MAPK14', 'MTOR', 'PI3K', 'CREB1', 'STAT5A']\n",
    "\n",
    "# Function to build heatmap data\n",
    "def build_heatmap_data(df, phenotype_nodes, cell_line_name, allowed_nodes):\n",
    "    # Filter for relevant nodes\n",
    "    phenotype_data = df[df['node'].isin(phenotype_nodes)].copy()\n",
    "\n",
    "    # Melt the DataFrame to long format\n",
    "    phenotype_data_melted = phenotype_data.melt(id_vars='node', var_name='condition', value_name='value')\n",
    "\n",
    "    # Set values to NaN for nodes not in allowed_nodes\n",
    "    phenotype_data_melted['value'] = phenotype_data_melted.apply(\n",
    "        lambda row: np.nan if row['node'] not in allowed_nodes else row['value'], axis=1)\n",
    "\n",
    "    # Pivot to create the heatmap data\n",
    "    heatmap_data = phenotype_data_melted.pivot_table(index='node', columns='condition', values='value', aggfunc='first')\n",
    "    \n",
    "    # Rename the columns to match the cell line names\n",
    "    heatmap_data.columns = [f'{cell_line_name}_{col}' for col in heatmap_data.columns]\n",
    "    \n",
    "    return heatmap_data\n",
    "\n",
    "# Create heatmap data\n",
    "heatmap_data_apo_JMD = build_heatmap_data(combined_df_JMD_tidy, apoptosis_nodes, 'JMD', allowed_nodes_apo_JMD)\n",
    "heatmap_data_apo_TKD = build_heatmap_data(combined_df_TKD_tidy, apoptosis_nodes, 'TKD', allowed_nodes_apo_TKD)\n",
    "heatmap_data_pro_JMD = build_heatmap_data(combined_df_JMD_tidy, proliferation_nodes, 'JMD', allowed_nodes_pro_JMD)\n",
    "heatmap_data_pro_TKD = build_heatmap_data(combined_df_TKD_tidy, proliferation_nodes, 'TKD', allowed_nodes_pro_TKD)\n",
    "\n",
    "# Combine JMD and TKD for each phenotype\n",
    "heatmap_data_apo = pd.concat([heatmap_data_apo_JMD, heatmap_data_apo_TKD], axis=1)\n",
    "heatmap_data_pro = pd.concat([heatmap_data_pro_JMD, heatmap_data_pro_TKD], axis=1)\n",
    "\n",
    "# Define color map for the heatmap\n",
    "cmap = sns.color_palette(\"coolwarm\", as_cmap=True)\n",
    "\n",
    "# Reorder the columns and rows to make it identical to the paper\n",
    "columns_order_apo = ['JMD_tumor', 'JMD_FLT3i', 'TKD_tumor', 'TKD_FLT3i']\n",
    "columns_order_pro = ['JMD_tumor', 'JMD_FLT3i', 'TKD_tumor', 'TKD_FLT3i']\n",
    "heatmap_data_pro_reordered = heatmap_data_pro[columns_order_apo].reindex(proliferation_nodes)\n",
    "heatmap_data_apo_reordered = heatmap_data_apo[columns_order_apo].reindex(apoptosis_nodes)\n",
    "\n",
    "# Plotting the heatmaps\n",
    "plt.figure(figsize=(5, 4))\n",
    "\n",
    "# Proliferation heatmap\n",
    "plt.subplot(2, 1, 1)\n",
    "sns.heatmap(heatmap_data_pro_reordered.T, cmap=cmap, annot=True, cbar=False, linewidths=.5, linecolor='black')\n",
    "plt.title('Proliferation, positive regulators')\n",
    "\n",
    "# Apoptosis heatmap\n",
    "plt.subplot(2, 1, 2)\n",
    "sns.heatmap(heatmap_data_apo_reordered.T, cmap=cmap, annot=True, cbar=False, linewidths=.5, linecolor='black')\n",
    "plt.title('Apoptosis, negative regulators')\n",
    "\n",
    "plt.tight_layout()\n",
    "plt.show()"
   ]
  },
  {
   "cell_type": "markdown",
   "metadata": {},
   "source": [
    "Compared with the results in Figure 3E in the paper:  \n",
    "![Figure 3Ehm](Figure3Ehm.png)   \n",
    "**The results are identical.**"
   ]
  },
  {
   "cell_type": "markdown",
   "metadata": {},
   "source": [
    "## Further assessment and applications of the models\n",
    "\n",
    "Next, the authors have simulated the levels of apoptosis and proliferation, upon combinatorial knockout of FLT3 and one of the following key druggable kinases: ERK1/2, MEK1/2, GSK3A/B, IGF1R, JNK, KRAS, MEK1/2, mTOR, PDPK1, PI3K, p38, to predict novel combinatorial treatments reverting drug resistance of FLT3-ITD cells. Since the same strategy was used in this section, the results should also be identical and thus are skipped here.  "
   ]
  },
  {
   "cell_type": "markdown",
   "metadata": {},
   "source": [
    "### Clinical outcomes\n",
    "Using the same strategy as in [Palma 2021](https://www.ncbi.nlm.nih.gov/pmc/articles/PMC7916657/), I next compare the phenotype scores with clinical features derived from the AML TGCA dataset. Specifically, the mutation-specific peripheral blood (PB) and bone marrow (BM) blast percentages with the predictions of our models.\n",
    "\n",
    "The integrated network score is calculated by substracting the proliferation score by the apoptosis score.   \n",
    "     \n",
    "Mutation and clinical data are downloaded from the [NIH GDC website](https://gdc.cancer.gov/about-data/publications/laml_2012):\n",
    "1. [Supplemental Table 06: All somatic mutations with annotation and readcounts from DNA and RNA sequencing](SupplementalTable06.tsv)\n",
    "2. [Patient Clinical Data](https://portal.gdc.cancer.gov/files/c07a64a0-7588-4653-95ef-982b41a1a804?aeTable_offset=20)"
   ]
  },
  {
   "cell_type": "code",
   "execution_count": null,
   "metadata": {},
   "outputs": [],
   "source": [
    "# Data file path\n",
    "tsv_file_path_genes = 'SupplementalTable06.tsv'\n",
    "tsv_file_path_clinical = 'nationwidechildrens.org_clinical_patient_laml.txt'\n",
    "\n",
    "# Mutation data\n",
    "df_genes = pd.read_csv(tsv_file_path_genes, sep='\\t', usecols=['TCGA_id', 'gene_name'])\n",
    "\n",
    "# clinical data \n",
    "df_clinical = pd.read_csv(tsv_file_path_clinical, sep='\\t', usecols=['bcr_patient_barcode', \n",
    "                                                            'blast_count',\n",
    "                                                            'percent_blasts_peripheral_blood'])\n"
   ]
  },
  {
   "cell_type": "code",
   "execution_count": 10,
   "metadata": {},
   "outputs": [
    {
     "data": {
      "text/plain": [
       "{'JMD_PROLIFERATION': {'tumor': 4, 'FLT3i': 2},\n",
       " 'TKD_PROLIFERATION': {'tumor': 3, 'FLT3i': 3},\n",
       " 'JMD_APOPTOSIS': {'tumor': -2, 'FLT3i': 0},\n",
       " 'TKD_APOPTOSIS': {'tumor': -2, 'FLT3i': -2}}"
      ]
     },
     "execution_count": 10,
     "metadata": {},
     "output_type": "execute_result"
    }
   ],
   "source": [
    "results"
   ]
  },
  {
   "cell_type": "code",
   "execution_count": 12,
   "metadata": {},
   "outputs": [
    {
     "data": {
      "text/plain": [
       "dict"
      ]
     },
     "execution_count": 12,
     "metadata": {},
     "output_type": "execute_result"
    }
   ],
   "source": [
    "type(results)"
   ]
  },
  {
   "cell_type": "markdown",
   "metadata": {},
   "source": [
    "## Conclusion\n",
    "**Results from the Latini et al. 2023 paper are reproducible, and identical results could be generated using different platforms (Python versus R).**   \n"
   ]
  },
  {
   "cell_type": "code",
   "execution_count": null,
   "metadata": {},
   "outputs": [],
   "source": []
  }
 ],
 "metadata": {
  "kernelspec": {
   "display_name": "Python 3 (ipykernel)",
   "language": "python",
   "name": "python3"
  },
  "language_info": {
   "codemirror_mode": {
    "name": "ipython",
    "version": 3
   },
   "file_extension": ".py",
   "mimetype": "text/x-python",
   "name": "python",
   "nbconvert_exporter": "python",
   "pygments_lexer": "ipython3",
   "version": "3.11.7"
  }
 },
 "nbformat": 4,
 "nbformat_minor": 4
}
